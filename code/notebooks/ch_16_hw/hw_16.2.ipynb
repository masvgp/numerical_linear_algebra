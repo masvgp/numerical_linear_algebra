{
 "cells": [
  {
   "cell_type": "code",
   "execution_count": 106,
   "metadata": {},
   "outputs": [],
   "source": [
    "import numpy as np\n",
    "import pandas as pd\n",
    "from collections import defaultdict\n",
    "import matplotlib.pyplot as plt\n",
    "import sys\n",
    "np.set_printoptions(threshold=sys.maxsize)"
   ]
  },
  {
   "cell_type": "markdown",
   "metadata": {},
   "source": [
    "**(a)**\n",
    "Write a Python program that constructs a $50 \\times 50$ matrix `A = U*S*V`, where `U` and `V` are random orthogonal matrices and `S` is a diagonal matrix whose diagonal entries are random uniformly distributed numbers in $[0, 1]$, sorted into nonincreasing order. Have your program compute `[U2, S2, V2] = svd(A)` and the norms of `U - U2`, `V - V2`,  `S - S2`, and `A - U2 * S2 * V2`. Do this for five matrices $A$ and comment on the results. (Hint: Plots of `diag(U2.T @ U)` and `diag(V2.T @ V)` may be informative.)"
   ]
  },
  {
   "cell_type": "code",
   "execution_count": 146,
   "metadata": {},
   "outputs": [],
   "source": [
    "def svd_experiment():\n",
    "    # Function to execute the experiment outlined in Problem 16.2.a\n",
    "    # Compute 50 x 50 random orthogonal matrices\n",
    "    U, _ = np.linalg.qr(np.random.normal(0.0, 1.0, size=(50, 50)))\n",
    "    V, _ = np.linalg.qr(np.random.normal(0.0, 1.0, size=(50, 50)))\n",
    "    # Generate a diagonal matrix whose diagonal entries are uniform(0, 1) in nonincreasing order\n",
    "    S = np.diag(( np.sort( np.random.uniform(0.0, 1.0, size=50) )[::-1]  ))\n",
    "    # Compute A\n",
    "    A = U @ S @ V\n",
    "    # Compute matrices U2, S2, and V2 from A using numpy's svd\n",
    "    U2, S2, V2 = np.linalg.svd(A)\n",
    "    # Compute norms for comparison\n",
    "    U_norm = np.linalg.norm(U - U2, ord=2)\n",
    "    V_norm = np.linalg.norm(V - V2, ord=2)\n",
    "    S_norm = np.linalg.norm(np.diag(S) - S2, ord=2)\n",
    "    A_norm = np.linalg.norm(A - (U2 @ np.diag(S2) @ V2), ord=2)\n",
    "\n",
    "\n",
    "    return U_norm, V_norm, S_norm, A_norm, A, U, U2, S, S2, V, V2"
   ]
  },
  {
   "cell_type": "code",
   "execution_count": 147,
   "metadata": {},
   "outputs": [],
   "source": [
    "def format_svd_experiment_results(num_experiments):\n",
    "    # Collect norm results into an array for analysis\n",
    "    norm_dict = {'U_norm': [], 'V_norm': [], 'S_norm': [], 'A_norm': []}\n",
    "    UTU_VTV_dict = {'UTU': [], 'VTV': []}\n",
    "    matrix_dict = {'U2': [], 'V2': [], 'U': [], 'V': [], 'S': [], 'S2': [], 'A': []}\n",
    "    for i in range(num_experiments):\n",
    "        U_norm, V_norm, S_norm, A_norm, A, U, U2, S, S2, V, V2 = svd_experiment()\n",
    "        matrix_dict['A'].append(A)\n",
    "        matrix_dict['U'].append(U)\n",
    "        matrix_dict['V'].append(V)\n",
    "        matrix_dict['U2'].append(U2)\n",
    "        matrix_dict['V2'].append(V2)\n",
    "        matrix_dict['S'].append(np.diag(S))\n",
    "        matrix_dict['S2'].append(S2)\n",
    "        norm_dict['V_norm'].append(V_norm)\n",
    "        norm_dict['U_norm'].append(U_norm)\n",
    "        norm_dict['S_norm'].append(S_norm)\n",
    "        norm_dict['A_norm'].append(A_norm)\n",
    "        UTU_VTV_dict['UTU'].append(np.diag(U2.T @ U))\n",
    "        UTU_VTV_dict['VTV'].append(np.diag(V2.T @ V))\n",
    "\n",
    "    \n",
    "    # Put norms into dataframe\n",
    "    norm_df = pd.DataFrame.from_dict(norm_dict, dtype=np.float64)\n",
    "\n",
    "    return norm_df, UTU_VTV_dict, matrix_dict"
   ]
  },
  {
   "cell_type": "code",
   "execution_count": 148,
   "metadata": {},
   "outputs": [],
   "source": [
    "norm_df, UV_dict, matrix_dict = format_svd_experiment_results(5)"
   ]
  },
  {
   "cell_type": "markdown",
   "metadata": {},
   "source": [
    "Below the values for the $U_{norm} = \\begin{Vmatrix}U - U2\\end{Vmatrix}$, $V_{norm} = \\begin{Vmatrix}V - V2\\end{Vmatrix}$, $S_{norm} = \\begin{Vmatrix}S - S2\\end{Vmatrix}$, and $A_{norm} = \\begin{Vmatrix}A - A2\\end{Vmatrix}$ are given for each of the 5 random $50 \\times 50$ matrices. Note that the results look great for the norms of the final product. Although similar to the books example of QR, th comparison of U2 and U and V2 and V are not good."
   ]
  },
  {
   "cell_type": "code",
   "execution_count": 172,
   "metadata": {},
   "outputs": [
    {
     "data": {
      "text/html": [
       "<div>\n",
       "<style scoped>\n",
       "    .dataframe tbody tr th:only-of-type {\n",
       "        vertical-align: middle;\n",
       "    }\n",
       "\n",
       "    .dataframe tbody tr th {\n",
       "        vertical-align: top;\n",
       "    }\n",
       "\n",
       "    .dataframe thead th {\n",
       "        text-align: right;\n",
       "    }\n",
       "</style>\n",
       "<table border=\"1\" class=\"dataframe\">\n",
       "  <thead>\n",
       "    <tr style=\"text-align: right;\">\n",
       "      <th></th>\n",
       "      <th>U_norm</th>\n",
       "      <th>V_norm</th>\n",
       "      <th>S_norm</th>\n",
       "      <th>A_norm</th>\n",
       "    </tr>\n",
       "  </thead>\n",
       "  <tbody>\n",
       "    <tr>\n",
       "      <th>0</th>\n",
       "      <td>2.0</td>\n",
       "      <td>2.0</td>\n",
       "      <td>2.089029e-15</td>\n",
       "      <td>4.761503e-15</td>\n",
       "    </tr>\n",
       "    <tr>\n",
       "      <th>1</th>\n",
       "      <td>2.0</td>\n",
       "      <td>2.0</td>\n",
       "      <td>1.903877e-15</td>\n",
       "      <td>2.242178e-15</td>\n",
       "    </tr>\n",
       "    <tr>\n",
       "      <th>2</th>\n",
       "      <td>2.0</td>\n",
       "      <td>2.0</td>\n",
       "      <td>2.582975e-15</td>\n",
       "      <td>3.163330e-15</td>\n",
       "    </tr>\n",
       "    <tr>\n",
       "      <th>3</th>\n",
       "      <td>2.0</td>\n",
       "      <td>2.0</td>\n",
       "      <td>2.037345e-15</td>\n",
       "      <td>3.003236e-15</td>\n",
       "    </tr>\n",
       "    <tr>\n",
       "      <th>4</th>\n",
       "      <td>2.0</td>\n",
       "      <td>2.0</td>\n",
       "      <td>2.062078e-15</td>\n",
       "      <td>3.668375e-15</td>\n",
       "    </tr>\n",
       "  </tbody>\n",
       "</table>\n",
       "</div>"
      ],
      "text/plain": [
       "   U_norm  V_norm        S_norm        A_norm\n",
       "0     2.0     2.0  2.089029e-15  4.761503e-15\n",
       "1     2.0     2.0  1.903877e-15  2.242178e-15\n",
       "2     2.0     2.0  2.582975e-15  3.163330e-15\n",
       "3     2.0     2.0  2.037345e-15  3.003236e-15\n",
       "4     2.0     2.0  2.062078e-15  3.668375e-15"
      ]
     },
     "execution_count": 172,
     "metadata": {},
     "output_type": "execute_result"
    }
   ],
   "source": [
    "norm_df"
   ]
  },
  {
   "cell_type": "code",
   "execution_count": 174,
   "metadata": {},
   "outputs": [
    {
     "data": {
      "image/png": "[encoded data removed]",
      "text/plain": [
       "<Figure size 800x1000 with 10 Axes>"
      ]
     },
     "metadata": {},
     "output_type": "display_data"
    }
   ],
   "source": [
    "fig, ax = plt.subplots(5, 2, figsize=(8, 10))\n",
    "\n",
    "UTU = UV_dict['UTU']\n",
    "VTV = UV_dict['VTV']\n",
    "\n",
    "ax[0, 0].hist(UTU[0])\n",
    "ax[1, 0].hist(UTU[1])\n",
    "ax[2, 0].hist(UTU[2])\n",
    "ax[3, 0].hist(UTU[3])\n",
    "ax[4, 0].hist(UTU[4])\n",
    "\n",
    "ax[0, 1].hist(VTV[0])\n",
    "ax[1, 1].hist(VTV[1])\n",
    "ax[2, 1].hist(VTV[2])\n",
    "ax[3, 1].hist(VTV[3])\n",
    "ax[4, 1].hist(VTV[4])\n",
    "plt.show()"
   ]
  },
  {
   "cell_type": "markdown",
   "metadata": {},
   "source": [
    "**(b)**\n",
    "Fix the signs in your computed $SVD$ so that the difficulties of (a) go away. Run the program again for five random matrices and comment on the various norms. Do they have a connection with `np.linalg.cond(A)`?"
   ]
  },
  {
   "cell_type": "code",
   "execution_count": 169,
   "metadata": {},
   "outputs": [],
   "source": [
    "# Adjust the signs on U2 and V2 so that there are not so many negative values\n",
    "def svd_experiment():\n",
    "    # Function to execute the experiment outlined in Problem 16.2.a\n",
    "    # Compute 50 x 50 random orthogonal matrices\n",
    "    U, _ = np.linalg.qr(np.random.normal(0.0, 1.0, size=(50, 50)))\n",
    "    V, _ = np.linalg.qr(np.random.normal(0.0, 1.0, size=(50, 50)))\n",
    "    # Generate a diagonal matrix whose diagonal entries are uniform(0, 1) in nonincreasing order\n",
    "    S = np.diag((np.sort(np.random.uniform(0.0, 1.0, size=50))[::-1]))\n",
    "    # Compute A\n",
    "    A = U @ S @ V\n",
    "    # Compute matrices U2, S2, and V2 from A using numpy's svd\n",
    "    U2, S2, V2 = np.linalg.svd(A)\n",
    "    U2 = -U2\n",
    "    V2 = -V2\n",
    "    # Compute norms for comparison\n",
    "    U_norm = np.linalg.norm(U - U2, ord=2.0)\n",
    "    V_norm = np.linalg.norm(V - V2, ord=2.0)\n",
    "    S_norm = np.linalg.norm(np.diag(S) - S2, ord=2.0)\n",
    "    A_norm = np.linalg.norm(A - (U2 @ np.diag(S2) @ V2), ord=2.0)\n",
    "\n",
    "\n",
    "    return U_norm, V_norm, S_norm, A_norm, A, U, U2, S, S2, V, V2"
   ]
  },
  {
   "cell_type": "code",
   "execution_count": 170,
   "metadata": {},
   "outputs": [],
   "source": [
    "norm_df, UV_dict, matrix_dict = format_svd_experiment_results(5)"
   ]
  },
  {
   "cell_type": "markdown",
   "metadata": {},
   "source": [
    "Below the values for the $U_{norm} = \\begin{Vmatrix}U - U2\\end{Vmatrix}$, $V_{norm} = \\begin{Vmatrix}V - V2\\end{Vmatrix}$, $S_{norm} = \\begin{Vmatrix}S - S2\\end{Vmatrix}$, and $A_{norm} = \\begin{Vmatrix}A - A2\\end{Vmatrix}$ are given for each of the 5 random $50 \\times 50$ matrices. As I suspected, there is really no change compared to Part (a) when I switch the signs on both U and V. "
   ]
  },
  {
   "cell_type": "code",
   "execution_count": 171,
   "metadata": {},
   "outputs": [
    {
     "data": {
      "text/html": [
       "<div>\n",
       "<style scoped>\n",
       "    .dataframe tbody tr th:only-of-type {\n",
       "        vertical-align: middle;\n",
       "    }\n",
       "\n",
       "    .dataframe tbody tr th {\n",
       "        vertical-align: top;\n",
       "    }\n",
       "\n",
       "    .dataframe thead th {\n",
       "        text-align: right;\n",
       "    }\n",
       "</style>\n",
       "<table border=\"1\" class=\"dataframe\">\n",
       "  <thead>\n",
       "    <tr style=\"text-align: right;\">\n",
       "      <th></th>\n",
       "      <th>U_norm</th>\n",
       "      <th>V_norm</th>\n",
       "      <th>S_norm</th>\n",
       "      <th>A_norm</th>\n",
       "    </tr>\n",
       "  </thead>\n",
       "  <tbody>\n",
       "    <tr>\n",
       "      <th>0</th>\n",
       "      <td>2.0</td>\n",
       "      <td>2.0</td>\n",
       "      <td>2.089029e-15</td>\n",
       "      <td>4.761503e-15</td>\n",
       "    </tr>\n",
       "    <tr>\n",
       "      <th>1</th>\n",
       "      <td>2.0</td>\n",
       "      <td>2.0</td>\n",
       "      <td>1.903877e-15</td>\n",
       "      <td>2.242178e-15</td>\n",
       "    </tr>\n",
       "    <tr>\n",
       "      <th>2</th>\n",
       "      <td>2.0</td>\n",
       "      <td>2.0</td>\n",
       "      <td>2.582975e-15</td>\n",
       "      <td>3.163330e-15</td>\n",
       "    </tr>\n",
       "    <tr>\n",
       "      <th>3</th>\n",
       "      <td>2.0</td>\n",
       "      <td>2.0</td>\n",
       "      <td>2.037345e-15</td>\n",
       "      <td>3.003236e-15</td>\n",
       "    </tr>\n",
       "    <tr>\n",
       "      <th>4</th>\n",
       "      <td>2.0</td>\n",
       "      <td>2.0</td>\n",
       "      <td>2.062078e-15</td>\n",
       "      <td>3.668375e-15</td>\n",
       "    </tr>\n",
       "  </tbody>\n",
       "</table>\n",
       "</div>"
      ],
      "text/plain": [
       "   U_norm  V_norm        S_norm        A_norm\n",
       "0     2.0     2.0  2.089029e-15  4.761503e-15\n",
       "1     2.0     2.0  1.903877e-15  2.242178e-15\n",
       "2     2.0     2.0  2.582975e-15  3.163330e-15\n",
       "3     2.0     2.0  2.037345e-15  3.003236e-15\n",
       "4     2.0     2.0  2.062078e-15  3.668375e-15"
      ]
     },
     "execution_count": 171,
     "metadata": {},
     "output_type": "execute_result"
    }
   ],
   "source": [
    "norm_df"
   ]
  },
  {
   "cell_type": "markdown",
   "metadata": {},
   "source": [
    "**(c)**\n",
    "Replace the diagonal entries of `S` by their sixth powers and repeat (b). Do you see significant differences between the results of this exercise and those of the experiment for $QR$ factorization?"
   ]
  },
  {
   "cell_type": "code",
   "execution_count": 175,
   "metadata": {},
   "outputs": [],
   "source": [
    "# Adjust the signs on U2 and V2 so that there are not so many negative values\n",
    "def svd_experiment():\n",
    "    # Function to execute the experiment outlined in Problem 16.2.a\n",
    "    # Compute 50 x 50 random orthogonal matrices\n",
    "    U, _ = np.linalg.qr(np.random.normal(0.0, 1.0, size=(50, 50)))\n",
    "    V, _ = np.linalg.qr(np.random.normal(0.0, 1.0, size=(50, 50)))\n",
    "    # Generate a diagonal matrix whose diagonal entries are uniform(0, 1) in nonincreasing order\n",
    "    S = np.diag((np.sort(np.random.uniform(0.0, 1.0, size=50))[::-1])) ** 6\n",
    "    # Compute A\n",
    "    A = U @ S @ V\n",
    "    # Compute matrices U2, S2, and V2 from A using numpy's svd\n",
    "    U2, S2, V2 = np.linalg.svd(A)\n",
    "\n",
    "    # Compute norms for comparison\n",
    "    U_norm = np.linalg.norm(U - U2, ord=2.0)\n",
    "    V_norm = np.linalg.norm(V - V2, ord=2.0)\n",
    "    S_norm = np.linalg.norm(np.diag(S) - S2, ord=2.0)\n",
    "    A_norm = np.linalg.norm(A - (U2 @ np.diag(S2) @ V2), ord=2.0)\n",
    "\n",
    "\n",
    "    return U_norm, V_norm, S_norm, A_norm, A, U, U2, S, S2, V, V2"
   ]
  },
  {
   "cell_type": "code",
   "execution_count": 176,
   "metadata": {},
   "outputs": [],
   "source": [
    "norm_df, UV_dict, matrix_dict = format_svd_experiment_results(5)"
   ]
  },
  {
   "cell_type": "markdown",
   "metadata": {},
   "source": [
    "The only difference I am seeing between the SVD factorization here and the QR factorization example from the book is that the comparison between U, U2, and V, V2 are the same in each of Part (a), Part (b), and Part(c). Moreover, the error is quite large. It is surprising that the final product comes out within epsilon machine of the true result."
   ]
  },
  {
   "cell_type": "code",
   "execution_count": 177,
   "metadata": {},
   "outputs": [
    {
     "data": {
      "text/html": [
       "<div>\n",
       "<style scoped>\n",
       "    .dataframe tbody tr th:only-of-type {\n",
       "        vertical-align: middle;\n",
       "    }\n",
       "\n",
       "    .dataframe tbody tr th {\n",
       "        vertical-align: top;\n",
       "    }\n",
       "\n",
       "    .dataframe thead th {\n",
       "        text-align: right;\n",
       "    }\n",
       "</style>\n",
       "<table border=\"1\" class=\"dataframe\">\n",
       "  <thead>\n",
       "    <tr style=\"text-align: right;\">\n",
       "      <th></th>\n",
       "      <th>U_norm</th>\n",
       "      <th>V_norm</th>\n",
       "      <th>S_norm</th>\n",
       "      <th>A_norm</th>\n",
       "    </tr>\n",
       "  </thead>\n",
       "  <tbody>\n",
       "    <tr>\n",
       "      <th>0</th>\n",
       "      <td>2.0</td>\n",
       "      <td>2.0</td>\n",
       "      <td>1.917769e-15</td>\n",
       "      <td>2.595188e-15</td>\n",
       "    </tr>\n",
       "    <tr>\n",
       "      <th>1</th>\n",
       "      <td>2.0</td>\n",
       "      <td>2.0</td>\n",
       "      <td>2.170821e-15</td>\n",
       "      <td>6.175800e-15</td>\n",
       "    </tr>\n",
       "    <tr>\n",
       "      <th>2</th>\n",
       "      <td>2.0</td>\n",
       "      <td>2.0</td>\n",
       "      <td>9.818437e-16</td>\n",
       "      <td>2.062343e-15</td>\n",
       "    </tr>\n",
       "    <tr>\n",
       "      <th>3</th>\n",
       "      <td>2.0</td>\n",
       "      <td>2.0</td>\n",
       "      <td>2.477993e-15</td>\n",
       "      <td>2.685253e-15</td>\n",
       "    </tr>\n",
       "    <tr>\n",
       "      <th>4</th>\n",
       "      <td>2.0</td>\n",
       "      <td>2.0</td>\n",
       "      <td>1.493614e-15</td>\n",
       "      <td>1.858533e-15</td>\n",
       "    </tr>\n",
       "  </tbody>\n",
       "</table>\n",
       "</div>"
      ],
      "text/plain": [
       "   U_norm  V_norm        S_norm        A_norm\n",
       "0     2.0     2.0  1.917769e-15  2.595188e-15\n",
       "1     2.0     2.0  2.170821e-15  6.175800e-15\n",
       "2     2.0     2.0  9.818437e-16  2.062343e-15\n",
       "3     2.0     2.0  2.477993e-15  2.685253e-15\n",
       "4     2.0     2.0  1.493614e-15  1.858533e-15"
      ]
     },
     "execution_count": 177,
     "metadata": {},
     "output_type": "execute_result"
    }
   ],
   "source": [
    "norm_df"
   ]
  },
  {
   "cell_type": "code",
   "execution_count": null,
   "metadata": {},
   "outputs": [],
   "source": []
  }
 ],
 "metadata": {
  "kernelspec": {
   "display_name": "Python 3.10.7 ('byu_510')",
   "language": "python",
   "name": "python3"
  },
  "language_info": {
   "codemirror_mode": {
    "name": "ipython",
    "version": 3
   },
   "file_extension": ".py",
   "mimetype": "text/x-python",
   "name": "python",
   "nbconvert_exporter": "python",
   "pygments_lexer": "ipython3",
   "version": "3.10.7"
  },
  "orig_nbformat": 4,
  "vscode": {
   "interpreter": {
    "hash": "168e2050a8aabf239f44fd61478731216f02c0a6210605b9f343b87d66e8c3e5"
   }
  }
 },
 "nbformat": 4,
 "nbformat_minor": 2
}
