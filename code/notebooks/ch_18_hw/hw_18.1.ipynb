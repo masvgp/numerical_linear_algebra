{
 "cells": [
  {
   "cell_type": "code",
   "execution_count": 1,
   "metadata": {},
   "outputs": [],
   "source": [
    "import numpy as np"
   ]
  },
  {
   "cell_type": "markdown",
   "metadata": {},
   "source": [
    "# Problem 18.1\n",
    "Below are the computations for Parts (c), (d), and (e). These computation use the following information:\n",
    "$$ A = \\begin{bmatrix} 1 & 1\\\\ 1 & 1.0001\\\\ 1 & 1.0001 \\end{bmatrix} $$\n",
    "$$ b = \\begin{bmatrix} 2\\\\ 0.0001\\\\ 4.0001 \\end{bmatrix} $$\n",
    "and the computed\n",
    "$$ x = 4.0 \\times 10^{-8}  \\begin{bmatrix} 0.000800100004\\\\ -24.0028001 \\end{bmatrix}  $$\n",
    "$$ y = 4.0 \\times 10^{-8} \\begin{bmatrix} 24.001999999996\\\\ 24.004400280006\\\\ 24.004400280006 \\end{bmatrix} $$"
   ]
  },
  {
   "cell_type": "code",
   "execution_count": 2,
   "metadata": {},
   "outputs": [],
   "source": [
    "A = np.array([[1.0, 1.0], [1.0, 1.0001], [1.0, 1.0001]], dtype=np.float64) \n",
    "b = np.array([2, 0.0001, 4.0001], dtype=np.float64)\n",
    "x = np.array([0.000800100004,  -24.0028001], dtype=np.float64)\n",
    "y = 4.0e-8 * np.array([24.001999999996, 24.004400280006, 24.004400280006], dtype=np.float64)"
   ]
  },
  {
   "cell_type": "markdown",
   "metadata": {},
   "source": [
    "**(c)** What $\\kappa(A)$, $\\theta$, and $\\eta$?"
   ]
  },
  {
   "cell_type": "code",
   "execution_count": 3,
   "metadata": {},
   "outputs": [
    {
     "name": "stdout",
     "output_type": "stream",
     "text": [
      "kappa(A): 42429.235416083044\n",
      "theta: 1.5707959549401582\n",
      "eta: 35355339.07897037\n"
     ]
    }
   ],
   "source": [
    "kappa_A = np.linalg.cond(A, p=2)\n",
    "theta = np.arccos(np.linalg.norm(y, ord=2) / np.linalg.norm(b, ord=2))\n",
    "eta = (np.linalg.norm(A, ord=2) * np.linalg.norm(x, ord=2)) / np.linalg.norm(y, ord=2)\n",
    "print('kappa(A): ' + str(kappa_A))\n",
    "print('theta: ' +  str(theta))\n",
    "print('eta: ' + str(eta))\n"
   ]
  },
  {
   "cell_type": "markdown",
   "metadata": {},
   "source": [
    "**(d)** What are the 4 condition numbers of Theorem 18.1?\n",
    "$$ \\kappa_{y \\mapsto b} = \\frac{1}{ \\cos \\theta}$$\n",
    "$$ \\kappa_{y \\mapsto A} = \\frac{\\kappa(A)}{\\cos \\theta}  $$\n",
    "$$ \\kappa_{x \\mapsto b} = \\frac{\\kappa(A)}{ \\eta \\cos \\theta}  $$\n",
    "$$ \\kappa_{x \\mapsto A} = \\kappa(A) + \\frac{\\kappa(A)^2\\tan \\theta}{\\eta}  $$\n",
    "\n"
   ]
  },
  {
   "cell_type": "code",
   "execution_count": 4,
   "metadata": {},
   "outputs": [
    {
     "name": "stdout",
     "output_type": "stream",
     "text": [
      "Sensitivity of y to perterbations in b is kappa_y_b: 2689222.1524829348\n",
      "Sensitivity of y to perterbations in A is kappa_y_A: 114101639793.84401\n",
      "Sensitivity of x to perterbations in b is kappa_x_b: 3227.281727916238\n",
      "Sensitivity of x to perterbations in A is kappa_y_A: 136931096.18777186\n"
     ]
    }
   ],
   "source": [
    "# Computations for each of the 4 condition numbers listed above.\n",
    "kappa_y_b = 1/np.cos(theta)\n",
    "kappa_y_A = np.linalg.cond(A, p=2)/np.cos(theta)\n",
    "kappa_x_b = np.linalg.cond(A, p=2)/(eta * np.cos(theta))\n",
    "kappa_x_A = ((np.linalg.cond(A, p=2) ** 2) * np.tan(theta))/(eta)\n",
    "\n",
    "print('Sensitivity of y to perterbations in b is kappa_y_b: ' + str(kappa_y_b))\n",
    "print('Sensitivity of y to perterbations in A is kappa_y_A: ' + str(kappa_y_A))\n",
    "print('Sensitivity of x to perterbations in b is kappa_x_b: ' + str(kappa_x_b))\n",
    "print('Sensitivity of x to perterbations in A is kappa_y_A: ' + str(kappa_x_A))\n"
   ]
  },
  {
   "cell_type": "markdown",
   "metadata": {},
   "source": [
    "**(e)** Give examples of perturbations $\\delta b$ and $\\delta A$ that approximately attain these four condition numbers.\n"
   ]
  },
  {
   "cell_type": "code",
   "execution_count": 5,
   "metadata": {},
   "outputs": [],
   "source": [
    "# Perturbations of b and A\n",
    "delta_b = np.array([2 + 1e-14, 0.0001, 4.0001], dtype=np.float64)\n",
    "delta_A = A = np.array([[1.0 + 1e-14, 1.0], [1.0, 1.0001], [1.0, 1.0001]], dtype=np.float64) "
   ]
  },
  {
   "cell_type": "code",
   "execution_count": 6,
   "metadata": {},
   "outputs": [
    {
     "name": "stdout",
     "output_type": "stream",
     "text": [
      "kappa(delta_A): 42429.2354118404\n",
      "theta: 1.5707959549401582\n",
      "eta: 35355339.07897044\n",
      "Sensitivity of y to perterbations in b is kappa_y_b: 2689222.1524829348\n",
      "Sensitivity of y to perterbations in A is kappa_y_delta_A: 114101639782.43459\n",
      "Sensitivity of x to perterbations in b is kappa_x_b: 3227.281727593525\n",
      "Sensitivity of x to perterbations in A is kappa_ydelta__A: 136931096.16038716\n"
     ]
    }
   ],
   "source": [
    "# Computations for each of the 4 condition numbers listed above with delta_b and delta_A.\n",
    "kappa_delta_A = np.linalg.cond(delta_A, p=2)\n",
    "theta = np.arccos(np.linalg.norm(y, ord=2) / np.linalg.norm(b, ord=2))\n",
    "eta = (np.linalg.norm(delta_A, ord=2) * np.linalg.norm(x, ord=2)) / np.linalg.norm(y, ord=2)\n",
    "print('kappa(delta_A): ' + str(kappa_delta_A))\n",
    "print('theta: ' +  str(theta))\n",
    "print('eta: ' + str(eta))\n",
    "\n",
    "\n",
    "kappa_y_b = 1/np.cos(theta)\n",
    "kappa_y_delta_A = np.linalg.cond(delta_A, p=2)/np.cos(theta)\n",
    "kappa_x_b = np.linalg.cond(delta_A, p=2)/(eta * np.cos(theta))\n",
    "kappa_x_delta_A = ((np.linalg.cond(delta_A, p=2) ** 2) * np.tan(theta))/(eta)\n",
    "\n",
    "print('Sensitivity of y to perterbations in b is kappa_y_b: ' + str(kappa_y_b))\n",
    "print('Sensitivity of y to perterbations in A is kappa_y_delta_A: ' + str(kappa_y_delta_A))\n",
    "print('Sensitivity of x to perterbations in b is kappa_x_b: ' + str(kappa_x_b))\n",
    "print('Sensitivity of x to perterbations in A is kappa_ydelta__A: ' + str(kappa_x_delta_A))"
   ]
  }
 ],
 "metadata": {
  "kernelspec": {
   "display_name": "Python 3.10.7 ('byu_510')",
   "language": "python",
   "name": "python3"
  },
  "language_info": {
   "codemirror_mode": {
    "name": "ipython",
    "version": 3
   },
   "file_extension": ".py",
   "mimetype": "text/x-python",
   "name": "python",
   "nbconvert_exporter": "python",
   "pygments_lexer": "ipython3",
   "version": "3.10.7"
  },
  "orig_nbformat": 4,
  "vscode": {
   "interpreter": {
    "hash": "168e2050a8aabf239f44fd61478731216f02c0a6210605b9f343b87d66e8c3e5"
   }
  }
 },
 "nbformat": 4,
 "nbformat_minor": 2
}
