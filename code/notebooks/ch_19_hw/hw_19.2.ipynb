{
 "cells": [
  {
   "cell_type": "code",
   "execution_count": 1,
   "metadata": {},
   "outputs": [],
   "source": [
    "import numpy as np"
   ]
  },
  {
   "cell_type": "code",
   "execution_count": 3,
   "metadata": {},
   "outputs": [],
   "source": [
    "# Define a 100 x 15 design matrix\n",
    "m = 100\n",
    "n = 15\n",
    "t = np.linspace(0, 1, 100)\n",
    "A = np.vander(t, n)"
   ]
  },
  {
   "cell_type": "code",
   "execution_count": 18,
   "metadata": {},
   "outputs": [],
   "source": [
    "# An algorithm to compute the psuedoinverse including only columns whose associated\n",
    "# singular values exceed the tolerance `tol` as defined in the algorithm below to \n",
    "# account for stability\n",
    "\n",
    "# Compute the SVD of A\n",
    "U, S, Vh = np.linalg.svd(A)\n",
    "# Define a tolerance that is the (largest dim of A) x (largest singular value of\n",
    "# A or the condition number of the matrix) x (machine epsilon) to account for stability\n",
    "tol = np.max(A.shape) * S[0] * np.finfo(float).eps\n",
    " # Set r to the count of singular values that exceed the tolerance `tol`\n",
    "r = np.sum(S > tol)    \n",
    " # Compute S^{-1} including only those values that exceed the tolerance `tol`                                \n",
    "S_inv = np.ones(r)/S \n",
    "# Compute A^+ = VS^{-1}U^*                                  \n",
    "X = Vh.conj().T @ np.diag(S_inv) @ U[:, :r].conj().T    "
   ]
  },
  {
   "cell_type": "code",
   "execution_count": 23,
   "metadata": {},
   "outputs": [
    {
     "data": {
      "text/plain": [
       "array([[ 3.70831427e+06, -4.15780655e+06, -3.67620796e+06, ...,\n",
       "        -3.67620811e+06, -4.15780575e+06,  3.70831390e+06],\n",
       "       [-2.69889331e+07,  2.99687959e+07,  2.67522901e+07, ...,\n",
       "         2.47146224e+07,  2.82404902e+07, -2.49274641e+07],\n",
       "       [ 8.81785521e+07, -9.68174815e+07, -8.73737028e+07, ...,\n",
       "        -7.41288593e+07, -8.55835132e+07,  7.47790128e+07],\n",
       "       ...,\n",
       "       [ 3.32700651e+03, -1.90770346e+03, -2.64980310e+03, ...,\n",
       "        -4.55034207e+02, -5.85070087e+02,  4.66179955e+02],\n",
       "       [-9.37444311e+01,  2.83204146e+01,  5.58349172e+01, ...,\n",
       "         6.98495601e+00,  9.09169176e+00, -7.17822583e+00],\n",
       "       [ 8.96680779e-01,  2.34816491e-01, -3.35452898e-02, ...,\n",
       "        -1.51472783e-02, -2.01271777e-02,  1.56544827e-02]])"
      ]
     },
     "execution_count": 23,
     "metadata": {},
     "output_type": "execute_result"
    }
   ],
   "source": [
    "X"
   ]
  },
  {
   "cell_type": "code",
   "execution_count": null,
   "metadata": {},
   "outputs": [],
   "source": []
  }
 ],
 "metadata": {
  "kernelspec": {
   "display_name": "Python 3.10.7 ('byu_510')",
   "language": "python",
   "name": "python3"
  },
  "language_info": {
   "codemirror_mode": {
    "name": "ipython",
    "version": 3
   },
   "file_extension": ".py",
   "mimetype": "text/x-python",
   "name": "python",
   "nbconvert_exporter": "python",
   "pygments_lexer": "ipython3",
   "version": "3.10.7"
  },
  "orig_nbformat": 4,
  "vscode": {
   "interpreter": {
    "hash": "168e2050a8aabf239f44fd61478731216f02c0a6210605b9f343b87d66e8c3e5"
   }
  }
 },
 "nbformat": 4,
 "nbformat_minor": 2
}
