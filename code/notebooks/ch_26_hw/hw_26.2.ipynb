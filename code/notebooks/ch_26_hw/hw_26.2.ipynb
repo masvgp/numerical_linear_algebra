{
 "cells": [
  {
   "cell_type": "code",
   "execution_count": 25,
   "metadata": {},
   "outputs": [],
   "source": [
    "import numpy as np\n",
    "import matplotlib.pyplot as plt"
   ]
  },
  {
   "cell_type": "code",
   "execution_count": 3,
   "metadata": {},
   "outputs": [],
   "source": [
    "def gen_norm_mat(epsilon, dim=(2, 2)):\n",
    "    \"\"\"Generate a square matrix with a 2-norm equal to epsilon.\n",
    "    \"\"\"\n",
    "    A = np.random.normal(size=dim)\n",
    "    u, s, vh = np.linalg.svd(A)\n",
    "    scaled_s = s * epsilon/s[0]\n",
    "    result = u @ np.diag(scaled_s) @ vh\n",
    "    # result_norm = np.linalg.norm(result, ord=2)\n",
    "    # if np.isclose(result_norm, epsilon, rtol=.000000001):\n",
    "    #     print(epsilon)\n",
    "    #     print('Algorithm failed to generate matrix with specified 2-norm size.\\n Generated matrix with norm: ' + str(result_norm) + ' instead.')\n",
    "    # else:\n",
    "    return result"
   ]
  },
  {
   "cell_type": "markdown",
   "metadata": {},
   "source": [
    "# Problem 26.2\n",
    "Let $A$ be the $32 \\times 32$ matrix with $-1$ on the main diagonal and $1$ on the first and second superdiagonals, and $0$ elsewhere. "
   ]
  },
  {
   "cell_type": "code",
   "execution_count": 4,
   "metadata": {},
   "outputs": [],
   "source": [
    "m = 32\n",
    "A = np.zeros((m, m)) + -1 * np.eye(m, m) + np.diag(np.ones(m-1), k=1) + np.diag(np.ones(m-2), k=2)"
   ]
  },
  {
   "cell_type": "markdown",
   "metadata": {},
   "source": [
    "**(a)** Using an SVD algorithm built into Python or another software system, together with contour plotting software, generate a plot of the boundaries of the 2-norm $\\epsilon$-pseudospectra of $A$ for $\\epsilon = 10^{-1}, 10^{-2}, \\dots, 10^{-8}$."
   ]
  },
  {
   "cell_type": "code",
   "execution_count": 5,
   "metadata": {},
   "outputs": [],
   "source": [
    "powers = -np.arange(1, 9)\n",
    "base = 10 * np.ones(8)\n",
    "epsilon = np.power(base, powers)"
   ]
  },
  {
   "cell_type": "code",
   "execution_count": 6,
   "metadata": {},
   "outputs": [],
   "source": [
    "dA = [gen_norm_mat(epsilon=eps, dim=(m, m)) for eps in epsilon]"
   ]
  },
  {
   "cell_type": "code",
   "execution_count": 7,
   "metadata": {},
   "outputs": [
    {
     "name": "stdout",
     "output_type": "stream",
     "text": [
      "0.09999999999999999\n",
      "0.010000000000000007\n",
      "0.0009999999999999994\n",
      "0.00010000000000000009\n",
      "9.999999999999992e-06\n",
      "9.999999999999995e-07\n",
      "9.999999999999996e-08\n",
      "1e-08\n"
     ]
    }
   ],
   "source": [
    "for mat in dA:\n",
    "    print(np.linalg.norm(mat, ord=2))"
   ]
  },
  {
   "cell_type": "code",
   "execution_count": 8,
   "metadata": {},
   "outputs": [],
   "source": [
    "A_plus_dA = A + dA"
   ]
  },
  {
   "cell_type": "code",
   "execution_count": 9,
   "metadata": {},
   "outputs": [],
   "source": [
    "# Compute eigenvalues of A_plus_dA\n",
    "eigs_A_plus_dA = np.linalg.eigvals(A_plus_dA)"
   ]
  },
  {
   "cell_type": "code",
   "execution_count": 22,
   "metadata": {},
   "outputs": [
    {
     "name": "stdout",
     "output_type": "stream",
     "text": [
      "[ 0.63477139  0.63477139  0.43776029  0.43776029  0.07147681  0.07147681\n",
      " -0.38571905 -0.38571905 -0.89557981 -0.89557981 -0.16795176 -1.19471318\n",
      " -1.19471318 -1.51306573 -1.51306573 -1.80711624 -1.80711624 -1.75519101\n",
      " -1.75519101 -1.88198261 -1.88198261 -1.86792808 -1.74363534 -1.64526004\n",
      " -1.64526004 -1.33428325 -1.33428325 -1.03471922 -1.128733   -1.128733\n",
      " -1.14930975 -1.32692596]\n",
      "[ 0.24527946 -0.24527946  0.82622637 -0.82622637  1.17173156 -1.17173156\n",
      "  1.46138795 -1.46138795  1.36971145 -1.36971145  0.          1.27266189\n",
      " -1.27266189  1.15618631 -1.15618631  0.77733967 -0.77733967  0.57768527\n",
      " -0.57768527  0.32444903 -0.32444903  0.          0.          0.25302546\n",
      " -0.25302546  0.27022193 -0.27022193  0.          0.14846666 -0.14846666\n",
      "  0.          0.        ]\n"
     ]
    }
   ],
   "source": [
    "print(eigs_A_plus_dA[0].real)\n",
    "print(eigs_A_plus_dA[0].imag)\n",
    "X, Y np."
   ]
  },
  {
   "cell_type": "code",
   "execution_count": 29,
   "metadata": {},
   "outputs": [],
   "source": [
    "# Create meshgrid for each level\n",
    "mesh = [np.meshgrid(eigs.real, eigs.imag) for eigs in eigs_A_plus_dA]"
   ]
  },
  {
   "cell_type": "code",
   "execution_count": 49,
   "metadata": {},
   "outputs": [
    {
     "data": {
      "text/plain": [
       "array([1.e-08, 1.e-07, 1.e-06, 1.e-05, 1.e-04, 1.e-03, 1.e-02, 1.e-01])"
      ]
     },
     "execution_count": 49,
     "metadata": {},
     "output_type": "execute_result"
    }
   ],
   "source": [
    "np.flip(epsilon)"
   ]
  },
  {
   "cell_type": "code",
   "execution_count": 50,
   "metadata": {},
   "outputs": [
    {
     "name": "stderr",
     "output_type": "stream",
     "text": [
      "c:\\Users\\mikea\\AppData\\Local\\Programs\\Python\\Python310\\envs\\byu_510\\lib\\site-packages\\numpy\\ma\\core.py:2826: ComplexWarning: Casting complex values to real discards the imaginary part\n",
      "  _data = np.array(data, dtype=dtype, copy=copy,\n"
     ]
    },
    {
     "data": {
      "text/plain": [
       "<matplotlib.contour.QuadContourSet at 0x21972b207f0>"
      ]
     },
     "execution_count": 50,
     "metadata": {},
     "output_type": "execute_result"
    },
    {
     "data": {
      "image/png": "[encoded data removed]",
      "text/plain": [
       "<Figure size 640x480 with 1 Axes>"
      ]
     },
     "metadata": {},
     "output_type": "display_data"
    }
   ],
   "source": [
    "plt.contourf(eigs_A_plus_dA, np.flip(epsilon))"
   ]
  },
  {
   "cell_type": "code",
   "execution_count": 54,
   "metadata": {},
   "outputs": [
    {
     "data": {
      "text/plain": [
       "array([[ 0.63477139+0.24527946j,  0.63477139-0.24527946j,\n",
       "         0.43776029+0.82622637j,  0.43776029-0.82622637j,\n",
       "         0.07147681+1.17173156j,  0.07147681-1.17173156j,\n",
       "        -0.38571905+1.46138795j, -0.38571905-1.46138795j,\n",
       "        -0.89557981+1.36971145j, -0.89557981-1.36971145j,\n",
       "        -0.16795176+0.j        , -1.19471318+1.27266189j,\n",
       "        -1.19471318-1.27266189j, -1.51306573+1.15618631j,\n",
       "        -1.51306573-1.15618631j, -1.80711624+0.77733967j,\n",
       "        -1.80711624-0.77733967j, -1.75519101+0.57768527j,\n",
       "        -1.75519101-0.57768527j, -1.88198261+0.32444903j,\n",
       "        -1.88198261-0.32444903j, -1.86792808+0.j        ,\n",
       "        -1.74363534+0.j        , -1.64526004+0.25302546j,\n",
       "        -1.64526004-0.25302546j, -1.33428325+0.27022193j,\n",
       "        -1.33428325-0.27022193j, -1.03471922+0.j        ,\n",
       "        -1.128733  +0.14846666j, -1.128733  -0.14846666j,\n",
       "        -1.14930975+0.j        , -1.32692596+0.j        ],\n",
       "       [ 0.25139176+0.25490892j,  0.25139176-0.25490892j,\n",
       "        -0.01961035+0.80806721j, -0.01961035-0.80806721j,\n",
       "        -0.35633312+1.07470196j, -0.35633312-1.07470196j,\n",
       "         0.00927129+0.47174904j,  0.00927129-0.47174904j,\n",
       "        -0.73782984+1.09483417j, -0.73782984-1.09483417j,\n",
       "        -0.93561973+1.16350124j, -0.93561973-1.16350124j,\n",
       "        -1.35320858+1.12001662j, -1.35320858-1.12001662j,\n",
       "        -0.2758356 +0.j        , -1.65666732+0.84726212j,\n",
       "        -1.65666732-0.84726212j, -1.77398542+0.5368172j ,\n",
       "        -1.77398542-0.5368172j , -1.75899862+0.26046297j,\n",
       "        -1.75899862-0.26046297j, -1.6788766 +0.j        ,\n",
       "        -1.64808821+0.11391502j, -1.64808821-0.11391502j,\n",
       "        -0.95586581+0.j        , -1.42482217+0.17882564j,\n",
       "        -1.42482217-0.17882564j, -1.23917842+0.15132363j,\n",
       "        -1.23917842-0.15132363j, -1.16324286+0.05812655j,\n",
       "        -1.16324286-0.05812655j, -1.47865638+0.j        ],\n",
       "       [ 0.29138733+0.17415789j,  0.29138733-0.17415789j,\n",
       "         0.18953397+0.53647886j,  0.18953397-0.53647886j,\n",
       "        -0.02641388+0.83067081j, -0.02641388-0.83067081j,\n",
       "        -0.31517989+1.06009482j, -0.31517989-1.06009482j,\n",
       "        -0.67521044+1.16215533j, -0.67521044-1.16215533j,\n",
       "        -1.01535635+1.13327795j, -1.01535635-1.13327795j,\n",
       "        -1.30590747+1.01573852j, -1.30590747-1.01573852j,\n",
       "        -1.53876941+0.80760004j, -1.53876941-0.80760004j,\n",
       "        -1.63564884+0.55837525j, -1.63564884-0.55837525j,\n",
       "        -1.66788592+0.36409204j, -1.66788592-0.36409204j,\n",
       "        -1.64901033+0.15956956j, -1.64901033-0.15956956j,\n",
       "        -1.01369149+0.j        , -1.2093978 +0.09741479j,\n",
       "        -1.2093978 -0.09741479j, -1.16423828+0.j        ,\n",
       "        -1.33018868+0.13568445j, -1.33018868-0.13568445j,\n",
       "        -1.45450554+0.0893655j , -1.45450554-0.0893655j ,\n",
       "        -1.56842886+0.00946897j, -1.56842886-0.00946897j],\n",
       "       [ 0.14034499+0.1654177j ,  0.14034499-0.1654177j ,\n",
       "         0.02335753+0.46783192j,  0.02335753-0.46783192j,\n",
       "        -0.18672024+0.67850715j, -0.18672024-0.67850715j,\n",
       "        -0.35299161+0.79804672j, -0.35299161-0.79804672j,\n",
       "        -0.56446246+0.95281346j, -0.56446246-0.95281346j,\n",
       "        -0.84689864+1.02503163j, -0.84689864-1.02503163j,\n",
       "        -1.14036915+0.987157j  , -1.14036915-0.987157j  ,\n",
       "        -1.38632948+0.84646068j, -1.38632948-0.84646068j,\n",
       "        -1.54696479+0.64734138j, -1.54696479-0.64734138j,\n",
       "        -1.62001842+0.43431436j, -1.62001842-0.43431436j,\n",
       "        -1.61822605+0.23909191j, -1.61822605-0.23909191j,\n",
       "        -1.56293464+0.08544333j, -1.56293464-0.08544333j,\n",
       "        -1.49990302+0.j        , -1.21089267+0.j        ,\n",
       "        -1.24189152+0.05662252j, -1.24189152-0.05662252j,\n",
       "        -1.42083023+0.05259937j, -1.42083023-0.05259937j,\n",
       "        -1.3196954 +0.07962089j, -1.3196954 -0.07962089j],\n",
       "       [ 0.04941627+0.15586416j,  0.04941627-0.15586416j,\n",
       "        -0.05804164+0.43992862j, -0.05804164-0.43992862j,\n",
       "        -0.23996173+0.66178381j, -0.23996173-0.66178381j,\n",
       "        -0.47045118+0.81157797j, -0.47045118-0.81157797j,\n",
       "        -0.7245219 +0.87506327j, -0.7245219 -0.87506327j,\n",
       "        -0.95611733+0.84929009j, -0.95611733-0.84929009j,\n",
       "        -1.13277605+0.79386064j, -1.13277605-0.79386064j,\n",
       "        -1.31714584+0.71335963j, -1.31714584-0.71335963j,\n",
       "        -1.46683046+0.56299613j, -1.46683046-0.56299613j,\n",
       "        -1.54089181+0.37923217j, -1.54089181-0.37923217j,\n",
       "        -1.00721528+0.j        , -1.54100048+0.20874182j,\n",
       "        -1.54100048-0.20874182j, -1.49377038+0.07336143j,\n",
       "        -1.49377038-0.07336143j, -1.4365317 +0.j        ,\n",
       "        -1.36744998+0.04482654j, -1.36744998-0.04482654j,\n",
       "        -1.28455283+0.0532166j , -1.28455283-0.0532166j ,\n",
       "        -1.23403219+0.02311867j, -1.23403219-0.02311867j],\n",
       "       [-0.02134006+0.j        , -0.06331037+0.2613364j ,\n",
       "        -0.06331037-0.2613364j , -0.17936622+0.4923881j ,\n",
       "        -0.17936622-0.4923881j , -0.35389487+0.67582281j,\n",
       "        -0.35389487-0.67582281j, -0.56953963+0.79380014j,\n",
       "        -0.56953963-0.79380014j, -0.7969389 +0.84091352j,\n",
       "        -0.7969389 -0.84091352j, -1.02009803+0.823881j  ,\n",
       "        -1.02009803-0.823881j  , -1.21910939+0.73935787j,\n",
       "        -1.21910939-0.73935787j, -1.36319834+0.60486745j,\n",
       "        -1.36319834-0.60486745j, -1.4441847 +0.45593707j,\n",
       "        -1.4441847 -0.45593707j, -1.47705995+0.31654811j,\n",
       "        -1.47705995-0.31654811j, -1.47674521+0.19220692j,\n",
       "        -1.47674521-0.19220692j, -1.44716475+0.08288185j,\n",
       "        -1.44716475-0.08288185j, -1.23828267+0.j        ,\n",
       "        -1.25879881+0.02741375j, -1.25879881-0.02741375j,\n",
       "        -1.39389968+0.j        , -1.3787158 +0.j        ,\n",
       "        -1.31447162+0.03204074j, -1.31447162-0.03204074j],\n",
       "       [-0.45749582+0.58139827j, -0.45749582-0.58139827j,\n",
       "        -0.3251207 +0.41489469j, -0.3251207 -0.41489469j,\n",
       "        -0.26393071+0.21629443j, -0.26393071-0.21629443j,\n",
       "        -0.28900004+0.04415779j, -0.28900004-0.04415779j,\n",
       "        -0.63559662+0.69665656j, -0.63559662-0.69665656j,\n",
       "        -0.83967801+0.74742373j, -0.83967801-0.74742373j,\n",
       "        -1.0399085 +0.72840308j, -1.0399085 -0.72840308j,\n",
       "        -1.21032174+0.65323934j, -1.21032174-0.65323934j,\n",
       "        -1.33914019+0.54071842j, -1.33914019-0.54071842j,\n",
       "        -1.4203068 +0.40732005j, -1.4203068 -0.40732005j,\n",
       "        -1.45234452+0.27177538j, -1.45234452-0.27177538j,\n",
       "        -1.44212181+0.15154103j, -1.44212181-0.15154103j,\n",
       "        -1.40173357+0.0587344j , -1.40173357-0.0587344j ,\n",
       "        -1.35672948+0.j        , -1.2484606 +0.j        ,\n",
       "        -1.26629568+0.0119844j , -1.26629568-0.0119844j ,\n",
       "        -1.32079673+0.j        , -1.30802381+0.j        ],\n",
       "       [-0.23501618+0.j        , -0.25449397+0.18669144j,\n",
       "        -0.25449397-0.18669144j, -0.32716397+0.3715951j ,\n",
       "        -0.32716397-0.3715951j , -0.45702612+0.52645724j,\n",
       "        -0.45702612-0.52645724j, -0.62506367+0.62758005j,\n",
       "        -0.62506367-0.62758005j, -0.80211015+0.66819794j,\n",
       "        -0.80211015-0.66819794j, -0.96621266+0.66216352j,\n",
       "        -0.96621266-0.66216352j, -1.11616325+0.62147685j,\n",
       "        -1.11616325-0.62147685j, -1.24588777+0.54499902j,\n",
       "        -1.24588777-0.54499902j, -1.34209351+0.43993747j,\n",
       "        -1.34209351-0.43993747j, -1.39685711+0.32127875j,\n",
       "        -1.39685711-0.32127875j, -1.41039116+0.20631266j,\n",
       "        -1.41039116-0.20631266j, -1.39065859+0.1098972j ,\n",
       "        -1.39065859-0.1098972j , -1.3509482 +0.04132265j,\n",
       "        -1.3509482 -0.04132265j, -1.31294806+0.j        ,\n",
       "        -1.25445053+0.j        , -1.25668639+0.j        ,\n",
       "        -1.29434069+0.j        , -1.27641792+0.j        ]])"
      ]
     },
     "execution_count": 54,
     "metadata": {},
     "output_type": "execute_result"
    }
   ],
   "source": [
    "eigs_A_plus_dA"
   ]
  },
  {
   "cell_type": "code",
   "execution_count": null,
   "metadata": {},
   "outputs": [],
   "source": []
  }
 ],
 "metadata": {
  "kernelspec": {
   "display_name": "Python 3.10.7 ('byu_510')",
   "language": "python",
   "name": "python3"
  },
  "language_info": {
   "codemirror_mode": {
    "name": "ipython",
    "version": 3
   },
   "file_extension": ".py",
   "mimetype": "text/x-python",
   "name": "python",
   "nbconvert_exporter": "python",
   "pygments_lexer": "ipython3",
   "version": "3.10.7"
  },
  "orig_nbformat": 4,
  "vscode": {
   "interpreter": {
    "hash": "168e2050a8aabf239f44fd61478731216f02c0a6210605b9f343b87d66e8c3e5"
   }
  }
 },
 "nbformat": 4,
 "nbformat_minor": 2
}
