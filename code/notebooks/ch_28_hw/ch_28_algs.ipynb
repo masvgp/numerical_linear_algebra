{
 "cells": [
  {
   "cell_type": "code",
   "execution_count": 1,
   "metadata": {},
   "outputs": [],
   "source": [
    "import numpy as np"
   ]
  },
  {
   "cell_type": "code",
   "execution_count": 4,
   "metadata": {},
   "outputs": [],
   "source": [
    "A = np.random.normal(size=(5, 5))"
   ]
  },
  {
   "cell_type": "code",
   "execution_count": 11,
   "metadata": {},
   "outputs": [],
   "source": [
    "Ak_1 = A.copy()\n",
    "for k in range(100):\n",
    "    Qk, Rk = np.linalg.qr(Ak_1)\n",
    "    Ak = Rk @ Qk\n",
    "    Ak_1 = Ak"
   ]
  },
  {
   "cell_type": "code",
   "execution_count": 12,
   "metadata": {},
   "outputs": [
    {
     "data": {
      "text/plain": [
       "array([[-3.61663902e-001, -1.87277667e+000,  2.83493081e-001,\n",
       "         2.19504812e-001,  1.54515895e+000],\n",
       "       [ 2.37142305e+000, -9.30927690e-003, -9.04896381e-001,\n",
       "        -2.87516435e-001, -3.73670062e-001],\n",
       "       [-3.07217105e-047, -1.70028429e-046, -1.94401121e-001,\n",
       "        -1.49509745e+000, -1.83234833e+000],\n",
       "       [-1.78060518e-047, -6.47517757e-048,  2.01917191e-001,\n",
       "        -1.05531354e+000,  5.90820674e-001],\n",
       "       [-6.28689063e-157, -4.20203077e-157,  3.77573168e-111,\n",
       "        -2.36101003e-110,  5.55219150e-002]])"
      ]
     },
     "execution_count": 12,
     "metadata": {},
     "output_type": "execute_result"
    }
   ],
   "source": [
    "Qk.T @ Ak @ Qk"
   ]
  },
  {
   "cell_type": "code",
   "execution_count": 21,
   "metadata": {},
   "outputs": [
    {
     "name": "stdout",
     "output_type": "stream",
     "text": [
      "[-1.01171955  1.16988257  1.26215762 -0.03268945 -0.4046289  -1.57261967\n",
      " -0.73129679 -0.06435476 -0.24609624]\n"
     ]
    },
    {
     "ename": "ValueError",
     "evalue": "matmul: Input operand 1 has a mismatch in its core dimension 0, with gufunc signature (n?,k),(k,m?)->(n?,m?) (size 10 is different from 9)",
     "output_type": "error",
     "traceback": [
      "\u001b[1;31m---------------------------------------------------------------------------\u001b[0m",
      "\u001b[1;31mValueError\u001b[0m                                Traceback (most recent call last)",
      "Cell \u001b[1;32mIn [21], line 13\u001b[0m\n\u001b[0;32m     11\u001b[0m vk \u001b[39m=\u001b[39m np\u001b[39m.\u001b[39msign(x1) \u001b[39m*\u001b[39m np\u001b[39m.\u001b[39mlinalg\u001b[39m.\u001b[39mnorm(x, \u001b[39mord\u001b[39m\u001b[39m=\u001b[39m\u001b[39m2\u001b[39m) \u001b[39m*\u001b[39m e1 \u001b[39m+\u001b[39m x\n\u001b[0;32m     12\u001b[0m vk \u001b[39m=\u001b[39m vk\u001b[39m/\u001b[39mnp\u001b[39m.\u001b[39mlinalg\u001b[39m.\u001b[39mnorm(vk, \u001b[39mord\u001b[39m\u001b[39m=\u001b[39m\u001b[39m2\u001b[39m)\n\u001b[1;32m---> 13\u001b[0m A[k\u001b[39m+\u001b[39m\u001b[39m1\u001b[39m:m, k:m] \u001b[39m=\u001b[39m A[k\u001b[39m+\u001b[39m\u001b[39m1\u001b[39m:m, k:m] \u001b[39m-\u001b[39m \u001b[39m2\u001b[39m \u001b[39m*\u001b[39m vk \u001b[39m@\u001b[39m (vk\u001b[39m.\u001b[39mconjugate()\u001b[39m.\u001b[39mT \u001b[39m@\u001b[39m A[k\u001b[39m+\u001b[39m\u001b[39m1\u001b[39m:m, k:m] )\n\u001b[0;32m     14\u001b[0m A[\u001b[39m1\u001b[39m:m, k\u001b[39m+\u001b[39m\u001b[39m1\u001b[39m:m] \u001b[39m=\u001b[39m A[\u001b[39m1\u001b[39m:m, k\u001b[39m+\u001b[39m\u001b[39m1\u001b[39m:m] \u001b[39m-\u001b[39m \u001b[39m2\u001b[39m \u001b[39m*\u001b[39m (A[\u001b[39m1\u001b[39m:m, k\u001b[39m+\u001b[39m\u001b[39m1\u001b[39m:m] \u001b[39m@\u001b[39m vk) \u001b[39m@\u001b[39m vk\u001b[39m.\u001b[39mconjugate\u001b[39m.\u001b[39mT\n",
      "\u001b[1;31mValueError\u001b[0m: matmul: Input operand 1 has a mismatch in its core dimension 0, with gufunc signature (n?,k),(k,m?)->(n?,m?) (size 10 is different from 9)"
     ]
    }
   ],
   "source": [
    "# Householder Reduction to Hessenberg Form\n",
    "m = 10\n",
    "A = np.random.normal(size=(m, m))\n",
    "A = np.tril(A) + np.tril(A).T\n",
    "for k in range(m -2):\n",
    "    x = A[k+1:m, k]\n",
    "    print(x)\n",
    "    x1 = x[0]\n",
    "    e1 = np.zeros(len(x))\n",
    "    e1 = e1[0] + 1\n",
    "    vk = np.sign(x1) * np.linalg.norm(x, ord=2) * e1 + x\n",
    "    vk = vk/np.linalg.norm(vk, ord=2)\n",
    "    A[k+1:m, k:m] = A[k+1:m, k:m] - 2 * vk @ (vk.conjugate().T @ A[k+1:m, k:m] )\n",
    "    A[1:m, k+1:m] = A[1:m, k+1:m] - 2 * (A[1:m, k+1:m] @ vk) @ vk.conjugate.T"
   ]
  },
  {
   "cell_type": "code",
   "execution_count": 16,
   "metadata": {},
   "outputs": [
    {
     "data": {
      "text/plain": [
       "array([[-0.91589416,  0.6851308 ,  0.89703053,  0.96191019, -0.49636304],\n",
       "       [ 0.6851308 , -1.01966722, -1.36120796, -1.03635997,  1.7983433 ],\n",
       "       [ 0.89703053, -1.36120796,  2.11177215, -0.04827536, -0.28719071],\n",
       "       [ 0.96191019, -1.03635997, -0.04827536, -1.18763077,  1.5055734 ],\n",
       "       [-0.49636304,  1.7983433 , -0.28719071,  1.5055734 , -2.11891184]])"
      ]
     },
     "execution_count": 16,
     "metadata": {},
     "output_type": "execute_result"
    }
   ],
   "source": [
    "m=10\n",
    "np.tril(A) + np.tril(A).T"
   ]
  },
  {
   "cell_type": "code",
   "execution_count": null,
   "metadata": {},
   "outputs": [],
   "source": []
  }
 ],
 "metadata": {
  "kernelspec": {
   "display_name": "Python 3.10.7 ('byu_510')",
   "language": "python",
   "name": "python3"
  },
  "language_info": {
   "codemirror_mode": {
    "name": "ipython",
    "version": 3
   },
   "file_extension": ".py",
   "mimetype": "text/x-python",
   "name": "python",
   "nbconvert_exporter": "python",
   "pygments_lexer": "ipython3",
   "version": "3.10.7"
  },
  "orig_nbformat": 4,
  "vscode": {
   "interpreter": {
    "hash": "168e2050a8aabf239f44fd61478731216f02c0a6210605b9f343b87d66e8c3e5"
   }
  }
 },
 "nbformat": 4,
 "nbformat_minor": 2
}
