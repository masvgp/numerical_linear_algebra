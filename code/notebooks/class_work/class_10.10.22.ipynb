{
 "cells": [
  {
   "cell_type": "code",
   "execution_count": 2,
   "metadata": {},
   "outputs": [],
   "source": [
    "import numpy as np"
   ]
  },
  {
   "cell_type": "code",
   "execution_count": 3,
   "metadata": {},
   "outputs": [],
   "source": [
    "# np.fliplr"
   ]
  },
  {
   "cell_type": "code",
   "execution_count": 4,
   "metadata": {},
   "outputs": [],
   "source": [
    "m = 100\n",
    "n = 15\n",
    "t = np.linspace(0, 1, 100)\n",
    "A = np.vander(t, n)\n",
    "b = np.exp(np.sin(4*t))\n",
    "b = b/2006.787453080206"
   ]
  },
  {
   "cell_type": "code",
   "execution_count": 5,
   "metadata": {},
   "outputs": [],
   "source": [
    "x = np.linalg.inv(A.conj().T @ A) @ (A.conj().T @ b)"
   ]
  },
  {
   "cell_type": "code",
   "execution_count": 6,
   "metadata": {},
   "outputs": [
    {
     "data": {
      "text/plain": [
       "-0.3648456670343876"
      ]
     },
     "execution_count": 6,
     "metadata": {},
     "output_type": "execute_result"
    }
   ],
   "source": [
    "x[0]"
   ]
  },
  {
   "cell_type": "code",
   "execution_count": 7,
   "metadata": {},
   "outputs": [
    {
     "data": {
      "text/plain": [
       "array([ 1.00000005e+00, -8.38142302e+00,  3.06311713e+01, -6.41093758e+01,\n",
       "        8.47288089e+01, -7.35408063e+01,  4.24466780e+01, -1.64170188e+01,\n",
       "        4.38580605e+00, -8.18419691e-01,  7.43487527e-02, -6.23696655e-03,\n",
       "        4.21287040e-03,  1.98998443e-03,  4.98315169e-04])"
      ]
     },
     "execution_count": 7,
     "metadata": {},
     "output_type": "execute_result"
    }
   ],
   "source": [
    "np.linalg.pinv(A) @ b"
   ]
  },
  {
   "cell_type": "code",
   "execution_count": 8,
   "metadata": {},
   "outputs": [],
   "source": [
    "U, S, Vh = np.linalg.svd(A, full_matrices=False)\n",
    "V = Vh.conj().T\n",
    "S = np.diag(S)\n"
   ]
  },
  {
   "cell_type": "code",
   "execution_count": 9,
   "metadata": {},
   "outputs": [],
   "source": [
    "x = V @ (np.linalg.inv(S) @ U.conj().T @ b)"
   ]
  },
  {
   "cell_type": "code",
   "execution_count": 10,
   "metadata": {},
   "outputs": [
    {
     "data": {
      "text/plain": [
       "array([ 1.00000005e+00, -8.38142302e+00,  3.06311713e+01, -6.41093758e+01,\n",
       "        8.47288089e+01, -7.35408063e+01,  4.24466780e+01, -1.64170188e+01,\n",
       "        4.38580605e+00, -8.18419691e-01,  7.43487527e-02, -6.23696655e-03,\n",
       "        4.21287040e-03,  1.98998443e-03,  4.98315169e-04])"
      ]
     },
     "execution_count": 10,
     "metadata": {},
     "output_type": "execute_result"
    }
   ],
   "source": [
    "x"
   ]
  },
  {
   "cell_type": "code",
   "execution_count": 26,
   "metadata": {},
   "outputs": [],
   "source": [
    "# Homework problem\n",
    "U, S, Vh = np.linalg.svd(A)                             # Get the SVD of A\n",
    "tol = np.max(A.shape) * S[0] * np.finfo(float).eps      #  \n",
    "r = np.sum(S > tol)\n",
    "S_inv = np.ones(r)/S\n",
    "X = Vh.conj().T @ S_inv @ U[:, :r].conj().T\n"
   ]
  },
  {
   "cell_type": "code",
   "execution_count": 27,
   "metadata": {},
   "outputs": [
    {
     "data": {
      "text/plain": [
       "array([ 2.73167290e+07,  4.92965965e+07,  6.79347638e+07,  8.34577930e+07,\n",
       "        9.60850328e+07,  1.06029079e+08,  1.13496197e+08,  1.18686694e+08,\n",
       "        1.21795254e+08,  1.23011211e+08,  1.22518767e+08,  1.20497159e+08,\n",
       "        1.17120758e+08,  1.12559104e+08,  1.06976881e+08,  1.00533827e+08,\n",
       "        9.33845762e+07,  8.56784371e+07,  7.75591139e+07,  6.91643648e+07,\n",
       "        6.06256057e+07,  5.20674640e+07,  4.36072869e+07,  3.53546114e+07,\n",
       "        2.74106035e+07,  1.98674747e+07,  1.28078864e+07,  6.30435082e+06,\n",
       "        4.18642018e+05, -4.79877267e+06, -9.30926693e+06, -1.30865422e+07,\n",
       "       -1.61170524e+07, -1.84003526e+07, -1.99493555e+07, -2.07904823e+07,\n",
       "       -2.09636908e+07, -2.05223675e+07, -1.95330677e+07, -1.80750912e+07,\n",
       "       -1.62398784e+07, -1.41302164e+07, -1.18592445e+07, -9.54924831e+06,\n",
       "       -7.33023783e+06, -5.33830333e+06, -3.71374754e+06, -2.59899517e+06,\n",
       "       -2.13628406e+06, -2.46514631e+06, -3.71969142e+06, -6.02570859e+06,\n",
       "       -9.49760950e+06, -1.42352390e+07, -2.03205863e+07, -2.78144346e+07,\n",
       "       -3.67529961e+07, -4.71445822e+07, -5.89663693e+07, -7.21613251e+07,\n",
       "       -8.66353712e+07, -1.02254861e+08, -1.18844466e+08, -1.36185563e+08,\n",
       "       -1.54015232e+08, -1.72025982e+08, -1.89866315e+08, -2.07142265e+08,\n",
       "       -2.23420057e+08, -2.38230011e+08, -2.51071855e+08, -2.61421601e+08,\n",
       "       -2.68740142e+08, -2.72483732e+08, -2.72116526e+08, -2.67125336e+08,\n",
       "       -2.57036781e+08, -2.41436989e+08, -2.19994021e+08, -1.92483161e+08,\n",
       "       -1.58815223e+08, -1.19068011e+08, -7.35210409e+07, -2.26936232e+07,\n",
       "        3.26136135e+07,  9.12737207e+07,  1.51784933e+08,  2.12218704e+08,\n",
       "        2.70164344e+08,  3.22670377e+08,  3.66182813e+08,  3.96480551e+08,\n",
       "        4.08608260e+08,  3.96807115e+08,  3.54443903e+08,  2.73939075e+08,\n",
       "        1.46694456e+08, -3.69785326e+07, -2.87929201e+08, -6.18235308e+08])"
      ]
     },
     "execution_count": 27,
     "metadata": {},
     "output_type": "execute_result"
    }
   ],
   "source": [
    "X"
   ]
  },
  {
   "cell_type": "code",
   "execution_count": 25,
   "metadata": {},
   "outputs": [
    {
     "data": {
      "text/plain": [
       "(100, 15)"
      ]
     },
     "execution_count": 25,
     "metadata": {},
     "output_type": "execute_result"
    }
   ],
   "source": [
    "U[:, :r].shape"
   ]
  },
  {
   "cell_type": "code",
   "execution_count": null,
   "metadata": {},
   "outputs": [],
   "source": []
  }
 ],
 "metadata": {
  "kernelspec": {
   "display_name": "Python 3.10.7 ('byu_510')",
   "language": "python",
   "name": "python3"
  },
  "language_info": {
   "codemirror_mode": {
    "name": "ipython",
    "version": 3
   },
   "file_extension": ".py",
   "mimetype": "text/x-python",
   "name": "python",
   "nbconvert_exporter": "python",
   "pygments_lexer": "ipython3",
   "version": "3.10.7"
  },
  "orig_nbformat": 4,
  "vscode": {
   "interpreter": {
    "hash": "168e2050a8aabf239f44fd61478731216f02c0a6210605b9f343b87d66e8c3e5"
   }
  }
 },
 "nbformat": 4,
 "nbformat_minor": 2
}
