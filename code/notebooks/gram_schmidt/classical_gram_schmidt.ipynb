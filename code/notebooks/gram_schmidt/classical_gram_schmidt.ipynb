{
 "cells": [
  {
   "cell_type": "code",
   "execution_count": 1,
   "metadata": {},
   "outputs": [],
   "source": [
    "import numpy as np"
   ]
  },
  {
   "cell_type": "code",
   "execution_count": 75,
   "metadata": {},
   "outputs": [],
   "source": [
    "# Classical Gram-Schmidt algorithm\n",
    "def cgs(A):\n",
    "    \"\"\"Classical gram schmidt computes the QR factorization of a matrix\n",
    "\n",
    "    Args:\n",
    "        x (arr): An m x n array of floats\n",
    "    \"\"\"\n",
    "    # Set m and n\n",
    "    m = A.shape[0]\n",
    "    n = A.shape[1]\n",
    "    Q = np.zeros((m, n))\n",
    "    R = np.zeros((n, n))\n",
    "\n",
    "    for j in range(n):\n",
    "        v_j = A[:, j] # Set v_j = a_j; This initializes v_j when j = 0\n",
    "        \n",
    "        # This inner loop will not start executing until j-1 >= 2\n",
    "        # This inner loop is designed to compute the off-diagonal entries of R\n",
    "        # Note that we've used j in the range function instead of j-1 to account for Python's indexing\n",
    "        for i in range(j):\n",
    "            R[i, j] = Q[:, i] @ A[:, j] # Compute the off-diagonal entries of Q\n",
    "            v_j = v_j - R[i, j]*Q[:, i]\n",
    "        \n",
    "        R[j, j] = np.linalg.norm(v_j) # Compute the jth diagonal entry of R\n",
    "        \n",
    "        Q[:, j] = v_j/R[j, j] # Compute the jth q, after the j-1 subtractions happen in the inner loop\n",
    "                       # This initializes Q when j = 0\n",
    "        \n",
    "    return Q, R"
   ]
  },
  {
   "cell_type": "code",
   "execution_count": 76,
   "metadata": {},
   "outputs": [],
   "source": [
    "A = np.array([[1, 2], [4, 5], [7, 8]])"
   ]
  },
  {
   "cell_type": "code",
   "execution_count": 77,
   "metadata": {},
   "outputs": [
    {
     "name": "stdout",
     "output_type": "stream",
     "text": [
      "2\n",
      "0 1\n",
      "2\n",
      "0 1\n"
     ]
    },
    {
     "data": {
      "text/plain": [
       "(array([[ 0.12309149,  0.90453403],\n",
       "        [ 0.49236596,  0.30151134],\n",
       "        [ 0.86164044, -0.30151134]]),\n",
       " array([[8.1240384 , 9.6011363 ],\n",
       "        [0.        , 0.90453403]]))"
      ]
     },
     "execution_count": 77,
     "metadata": {},
     "output_type": "execute_result"
    }
   ],
   "source": [
    "cgs(A)"
   ]
  },
  {
   "cell_type": "code",
   "execution_count": 78,
   "metadata": {},
   "outputs": [
    {
     "data": {
      "text/plain": [
       "(array([[-0.12309149,  0.90453403],\n",
       "        [-0.49236596,  0.30151134],\n",
       "        [-0.86164044, -0.30151134]]),\n",
       " array([[-8.1240384 , -9.6011363 ],\n",
       "        [ 0.        ,  0.90453403]]))"
      ]
     },
     "execution_count": 78,
     "metadata": {},
     "output_type": "execute_result"
    }
   ],
   "source": [
    "np.linalg.qr(A)\n"
   ]
  }
 ],
 "metadata": {
  "kernelspec": {
   "display_name": "Python 3.8.10 ('byu_510')",
   "language": "python",
   "name": "python3"
  },
  "language_info": {
   "codemirror_mode": {
    "name": "ipython",
    "version": 3
   },
   "file_extension": ".py",
   "mimetype": "text/x-python",
   "name": "python",
   "nbconvert_exporter": "python",
   "pygments_lexer": "ipython3",
   "version": "3.8.10"
  },
  "orig_nbformat": 4,
  "vscode": {
   "interpreter": {
    "hash": "377e24343a05d7851b06affc79fb974795c277650a5edcd2cda5027725f01d3c"
   }
  }
 },
 "nbformat": 4,
 "nbformat_minor": 2
}
