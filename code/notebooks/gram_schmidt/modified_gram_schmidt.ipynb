{
 "cells": [
  {
   "cell_type": "markdown",
   "metadata": {},
   "source": [
    "# Homework 8 Problem 8.2"
   ]
  },
  {
   "cell_type": "code",
   "execution_count": 39,
   "metadata": {},
   "outputs": [],
   "source": [
    "import numpy as np"
   ]
  },
  {
   "cell_type": "code",
   "execution_count": 44,
   "metadata": {},
   "outputs": [],
   "source": [
    "# The modified Gram-Schmidt Algorithm as presented in Algorithm 8.1\n",
    "# in the book 'Numerical Linear Algebra' by Trefethen and Bau\n",
    "def mgs(A):\n",
    "    \"\"\"An implementation of modified Gram-Schmidt for QR factorization. The implementation uses orthogonal projections\n",
    "    to compute the orthonormal vectors q that form the columns of the matrix Q.\n",
    "\n",
    "    Args:\n",
    "        A (arr): An m x n matrix A\n",
    "    Output:\n",
    "        Q (arr): an m x n matrix with orthonormal columns\n",
    "        R (arr): an n x n upper-diagonal matrix\n",
    "    \"\"\"\n",
    "    m = A.shape[0] # Get row-dim of A\n",
    "    n = A.shape[1] # Get col-dim of A\n",
    "    Q = np.zeros((m, n)) # Initialize matrix Q\n",
    "    R = np.zeros((n, n)) # Initialize matrix R\n",
    "    \n",
    "    # Copy the matrix A into V. This is a loop in Algorithm 8.1,\n",
    "    # but the loop is unecessary\n",
    "    V = A.copy().astype(np.float64)\n",
    "\n",
    "    for i in range(n):\n",
    "        # Raise error if provided matrix is singular\n",
    "        if np.linalg.norm(V[:, i]) == 0:\n",
    "                raise ValueError(\"The provided matrix is singular. Modified Gram-Schmidt only works for non-singular matrices\")\n",
    "\n",
    "        R[i, i] = np.linalg.norm(V[:, i]) # Compute each r_ii\n",
    "        Q[:, i] = V[:, i] / R[i, i] # normalize each orthogonal v\n",
    "        \n",
    "        for j in range(i+1, n):\n",
    "            R[i, j] = Q[:, i]@V[:, j] # Compute r_ij\n",
    "            V[:, j] = V[:, j] - R[i, j]*Q[:, i] # Get the orthogonal projection as soon as the latest\n",
    "                                                # q_i is known\n",
    "            \n",
    "            \n",
    "    \n",
    "    return Q, R"
   ]
  },
  {
   "cell_type": "code",
   "execution_count": 45,
   "metadata": {},
   "outputs": [
    {
     "name": "stdout",
     "output_type": "stream",
     "text": [
      "[[1 2]\n",
      " [5 6]\n",
      " [8 9]]\n",
      "My version of Algorithm 8.1 \n",
      "(array([[ 0.10540926,  0.93127185],\n",
      "       [ 0.52704628,  0.24507154],\n",
      "       [ 0.84327404, -0.26957869]]), array([[ 9.48683298, 10.96256256],\n",
      "       [ 0.        ,  0.9067647 ]]))\n",
      "Numpy's version of reduced QR factorization \n",
      "(array([[-0.10540926,  0.93127185],\n",
      "       [-0.52704628,  0.24507154],\n",
      "       [-0.84327404, -0.26957869]]), array([[ -9.48683298, -10.96256256],\n",
      "       [  0.        ,   0.9067647 ]]))\n"
     ]
    }
   ],
   "source": [
    "A = np.array([[1, 2], [5, 6], [8, 9]])\n",
    "print(A)\n",
    "print(\"My version of Algorithm 8.1 \\n\" + str(mgs(A)))\n",
    "print(\"Numpy's version of reduced QR factorization \\n\" +  str(np.linalg.qr(A)))"
   ]
  },
  {
   "cell_type": "code",
   "execution_count": 46,
   "metadata": {},
   "outputs": [
    {
     "name": "stdout",
     "output_type": "stream",
     "text": [
      "[[0.70863954 0.94103797 0.30406181 0.18355483 0.32602295]\n",
      " [0.39927149 0.81401655 0.20308521 0.9074034  0.9249954 ]\n",
      " [0.54039882 0.04462974 0.49830826 0.72436463 0.8351811 ]\n",
      " [0.51866884 0.23652526 0.90420323 0.19028472 0.52702052]\n",
      " [0.46583142 0.24385973 0.17683717 0.23034308 0.28039752]]\n",
      "My version of Algorithm 8.1 \n",
      "(array([[ 0.59060783,  0.42762526, -0.21457682, -0.50902989,  0.40393611],\n",
      "       [ 0.33276843,  0.61478594,  0.17257791,  0.66015862, -0.21380102],\n",
      "       [ 0.45038945, -0.56041461, -0.19314912,  0.49165661,  0.45172116],\n",
      "       [ 0.43227884, -0.2827369 ,  0.80317581, -0.22663736, -0.19167413],\n",
      "       [ 0.38824208, -0.2125328 , -0.49170691, -0.1094918 , -0.74184484]]), array([[ 1.19984786,  1.04368564,  0.93111797,  0.90829524,  1.21319966],\n",
      "       [ 0.        ,  0.75914377, -0.3176161 ,  0.12765105,  0.03144031],\n",
      "       [ 0.        ,  0.        ,  0.51283771,  0.01687159,  0.21377905],\n",
      "       [ 0.        ,  0.        ,  0.        ,  0.79338764,  0.7051668 ],\n",
      "       [ 0.        ,  0.        ,  0.        ,  0.        ,  0.00216881]]))\n",
      "Numpy's version of reduced QR factorization \n",
      "(array([[-0.59060783, -0.42762526, -0.21457682,  0.50902989, -0.40393611],\n",
      "       [-0.33276843, -0.61478594,  0.17257791, -0.66015862,  0.21380102],\n",
      "       [-0.45038945,  0.56041461, -0.19314912, -0.49165661, -0.45172116],\n",
      "       [-0.43227884,  0.2827369 ,  0.80317581,  0.22663736,  0.19167413],\n",
      "       [-0.38824208,  0.2125328 , -0.49170691,  0.1094918 ,  0.74184484]]), array([[-1.19984786, -1.04368564, -0.93111797, -0.90829524, -1.21319966],\n",
      "       [ 0.        , -0.75914377,  0.3176161 , -0.12765105, -0.03144031],\n",
      "       [ 0.        ,  0.        ,  0.51283771,  0.01687159,  0.21377905],\n",
      "       [ 0.        ,  0.        ,  0.        , -0.79338764, -0.7051668 ],\n",
      "       [ 0.        ,  0.        ,  0.        ,  0.        , -0.00216881]]))\n"
     ]
    }
   ],
   "source": [
    "A = np.random.rand(5, 5)\n",
    "print(A)\n",
    "print(\"My version of Algorithm 8.1 \\n\" + str(mgs(A)))\n",
    "print(\"Numpy's version of reduced QR factorization \\n\" +  str(np.linalg.qr(A)))"
   ]
  },
  {
   "cell_type": "code",
   "execution_count": 47,
   "metadata": {},
   "outputs": [
    {
     "ename": "ValueError",
     "evalue": "The provided matrix is singular. Modified Gram-Schmidt only works for non-singular matrices",
     "output_type": "error",
     "traceback": [
      "\u001b[0;31m---------------------------------------------------------------------------\u001b[0m",
      "\u001b[0;31mValueError\u001b[0m                                Traceback (most recent call last)",
      "\u001b[1;32m/home/masvgp/dev/byu_num_lin_alg_2022/gram_schmidt/modified_gram_schmidt.ipynb Cell 5\u001b[0m in \u001b[0;36m<cell line: 2>\u001b[0;34m()\u001b[0m\n\u001b[1;32m      <a href='vscode-notebook-cell://wsl%2Bubuntu/home/masvgp/dev/byu_num_lin_alg_2022/gram_schmidt/modified_gram_schmidt.ipynb#X10sdnNjb2RlLXJlbW90ZQ%3D%3D?line=0'>1</a>\u001b[0m A \u001b[39m=\u001b[39m np\u001b[39m.\u001b[39marray([[\u001b[39m1\u001b[39m, \u001b[39m2\u001b[39m, \u001b[39m3\u001b[39m], [\u001b[39m4\u001b[39m, \u001b[39m5\u001b[39m, \u001b[39m6\u001b[39m], [\u001b[39m7\u001b[39m, \u001b[39m8\u001b[39m, \u001b[39m9\u001b[39m]])\n\u001b[0;32m----> <a href='vscode-notebook-cell://wsl%2Bubuntu/home/masvgp/dev/byu_num_lin_alg_2022/gram_schmidt/modified_gram_schmidt.ipynb#X10sdnNjb2RlLXJlbW90ZQ%3D%3D?line=1'>2</a>\u001b[0m mgs(A)\n",
      "\u001b[1;32m/home/masvgp/dev/byu_num_lin_alg_2022/gram_schmidt/modified_gram_schmidt.ipynb Cell 5\u001b[0m in \u001b[0;36mmgs\u001b[0;34m(A)\u001b[0m\n\u001b[1;32m     <a href='vscode-notebook-cell://wsl%2Bubuntu/home/masvgp/dev/byu_num_lin_alg_2022/gram_schmidt/modified_gram_schmidt.ipynb#X10sdnNjb2RlLXJlbW90ZQ%3D%3D?line=21'>22</a>\u001b[0m \u001b[39mfor\u001b[39;00m i \u001b[39min\u001b[39;00m \u001b[39mrange\u001b[39m(n):\n\u001b[1;32m     <a href='vscode-notebook-cell://wsl%2Bubuntu/home/masvgp/dev/byu_num_lin_alg_2022/gram_schmidt/modified_gram_schmidt.ipynb#X10sdnNjb2RlLXJlbW90ZQ%3D%3D?line=22'>23</a>\u001b[0m     \u001b[39m# Raise error if provided matrix is singular\u001b[39;00m\n\u001b[1;32m     <a href='vscode-notebook-cell://wsl%2Bubuntu/home/masvgp/dev/byu_num_lin_alg_2022/gram_schmidt/modified_gram_schmidt.ipynb#X10sdnNjb2RlLXJlbW90ZQ%3D%3D?line=23'>24</a>\u001b[0m     \u001b[39mif\u001b[39;00m np\u001b[39m.\u001b[39mlinalg\u001b[39m.\u001b[39mnorm(V[:, i]) \u001b[39m==\u001b[39m \u001b[39m0\u001b[39m:\n\u001b[0;32m---> <a href='vscode-notebook-cell://wsl%2Bubuntu/home/masvgp/dev/byu_num_lin_alg_2022/gram_schmidt/modified_gram_schmidt.ipynb#X10sdnNjb2RlLXJlbW90ZQ%3D%3D?line=24'>25</a>\u001b[0m             \u001b[39mraise\u001b[39;00m \u001b[39mValueError\u001b[39;00m(\u001b[39m\"\u001b[39m\u001b[39mThe provided matrix is singular. Modified Gram-Schmidt only works for non-singular matrices\u001b[39m\u001b[39m\"\u001b[39m)\n\u001b[1;32m     <a href='vscode-notebook-cell://wsl%2Bubuntu/home/masvgp/dev/byu_num_lin_alg_2022/gram_schmidt/modified_gram_schmidt.ipynb#X10sdnNjb2RlLXJlbW90ZQ%3D%3D?line=26'>27</a>\u001b[0m     R[i, i] \u001b[39m=\u001b[39m np\u001b[39m.\u001b[39mlinalg\u001b[39m.\u001b[39mnorm(V[:, i]) \u001b[39m# Compute each r_ii\u001b[39;00m\n\u001b[1;32m     <a href='vscode-notebook-cell://wsl%2Bubuntu/home/masvgp/dev/byu_num_lin_alg_2022/gram_schmidt/modified_gram_schmidt.ipynb#X10sdnNjb2RlLXJlbW90ZQ%3D%3D?line=27'>28</a>\u001b[0m     Q[:, i] \u001b[39m=\u001b[39m V[:, i] \u001b[39m/\u001b[39m R[i, i] \u001b[39m# normalize each orthogonal v\u001b[39;00m\n",
      "\u001b[0;31mValueError\u001b[0m: The provided matrix is singular. Modified Gram-Schmidt only works for non-singular matrices"
     ]
    }
   ],
   "source": [
    "A = np.array([[1, 2, 3], [4, 5, 6], [7, 8, 9]])\n",
    "mgs(A)"
   ]
  }
 ],
 "metadata": {
  "kernelspec": {
   "display_name": "Python 3.8.10 ('byu_510')",
   "language": "python",
   "name": "python3"
  },
  "language_info": {
   "codemirror_mode": {
    "name": "ipython",
    "version": 3
   },
   "file_extension": ".py",
   "mimetype": "text/x-python",
   "name": "python",
   "nbconvert_exporter": "python",
   "pygments_lexer": "ipython3",
   "version": "3.8.10"
  },
  "orig_nbformat": 4,
  "vscode": {
   "interpreter": {
    "hash": "377e24343a05d7851b06affc79fb974795c277650a5edcd2cda5027725f01d3c"
   }
  }
 },
 "nbformat": 4,
 "nbformat_minor": 2
}
