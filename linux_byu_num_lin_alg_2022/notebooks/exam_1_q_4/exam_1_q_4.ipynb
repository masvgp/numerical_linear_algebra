{
 "cells": [
  {
   "cell_type": "code",
   "execution_count": 120,
   "metadata": {},
   "outputs": [],
   "source": [
    "# Import standard numeric and visualization libs\n",
    "import numpy as np\n",
    "import matplotlib.pyplot as plt\n",
    "\n",
    "# Import my householder QR factorization implementation\n",
    "# import sys\n",
    "# sys.path.insert(0, \"/home/masvgp/dev/byu_num_lin_alg_2022/src/\")\n",
    "# from factorizations.householder import house, formQ"
   ]
  },
  {
   "cell_type": "code",
   "execution_count": 121,
   "metadata": {},
   "outputs": [],
   "source": [
    "# My implementation of householder factorization and it's associated utility functions\n",
    "def e(i, length):\n",
    "    \"\"\"Generate a unit coordinate vector, i.e., Given an index i and a length, return a vector with a 1.0 in the ith position and 0.0 else.\n",
    "\n",
    "    Args:\n",
    "        i (int): Integer index in which 1.0 will be assigned  \n",
    "        length (int): Length of the desired output vector\n",
    "\n",
    "    Returns:\n",
    "        arr: Unit coordinate vector with 1.0 in the ith position\n",
    "    \"\"\"\n",
    "    e_i = np.zeros(length, dtype=np.float64)\n",
    "    e_i[i] = 1.0\n",
    "    return e_i\n",
    "\n",
    "def reflector(v):\n",
    "    \"\"\"Given a unit vector v, return the householder reflector I - 2 * np.outer(v, v)\n",
    "\n",
    "    Args:\n",
    "        v (arr): Vector\n",
    "    Returns:\n",
    "        reflector (arr): A len(v) x len(v) array representing a householder reflector\n",
    "    \"\"\"\n",
    "    I = np.eye(len(v))\n",
    "    outer = np.outer(v, v)\n",
    "\n",
    "\n",
    "    return (I - 2 * outer)\n",
    "\n",
    "def house(A, reduced=False):\n",
    "    \"\"\"Compute the factor R of a QR factorization of an m x n matrix A with m >= .\n",
    "\n",
    "    Args:\n",
    "        A (arr): A numpy array of shape m x n\n",
    "    Returns:\n",
    "        R (arr): The upper diagonal matrix R in a QR factorization\n",
    "    \"\"\"\n",
    "    m = A.shape[0] # Get row-dim of A\n",
    "    n = A.shape[1] # Get col-dim of A\n",
    "    W = np.zeros((m, n))\n",
    "    #Q = np.eye(m, m)\n",
    "    # V = np.zeros((m, n))\n",
    "\n",
    "    # Cast A as type np.float64\n",
    "    A = A.astype(np.float64)\n",
    "\n",
    "    for k in range(n):\n",
    "        # Get the first column of the (m-k+1, n-k+1) submatrix of A\n",
    "        x = A[k:m, k]\n",
    "\n",
    "        # Compute e_1, sign function, and the norm of x\n",
    "        e_1 = e(0, len(x))\n",
    "        sign = np.sign(x[0])\n",
    "        norm_x = np.linalg.norm(x)\n",
    "\n",
    "        # Compute vk, the vector reflected across the Householder hyperplane\n",
    "        vk = (sign * norm_x * e_1) + x\n",
    "        vk = vk / np.linalg.norm(vk)\n",
    "\n",
    "        # Store vk in W\n",
    "        W[k:m, k] = vk\n",
    "\n",
    "        # Apply the reflector to the k:m, k:n submatrix of A to put\n",
    "        # zeros below the diagonal of the kth column of A\n",
    "        A[k:m, k:n] = reflector(vk) @ A[k:m, k:n]\n",
    "    \n",
    "    if reduced == True:\n",
    "        # return np.around(A[:n, :n], decimals=8), W\n",
    "        return A[:n, :n], W\n",
    "    else:\n",
    "        # Return full R\n",
    "        return A, W\n",
    "        # return np.around(A, decimals=8), W\n",
    "\n",
    "def formQ(W, reduced=False):\n",
    "    \"\"\"Form Q from the lower diagonal vk's formed in the householder algorithm.\n",
    "\n",
    "    Args:\n",
    "        W (arr): An m x n matrix containing the vk in the kth column\n",
    "\n",
    "    Returns:\n",
    "        arr: Returns an m x m orthonormal matrix Q such that QR = A\n",
    "    \"\"\"\n",
    "    m = W.shape[0]\n",
    "    n = W.shape[1]\n",
    "    Q = np.eye(m, m)\n",
    "    for k in range(n):\n",
    "            Qk = np.eye(m, m)\n",
    "            Qk[k:m, k:m] = reflector(W[k:m, k])\n",
    "            Q = Q @ Qk\n",
    "    \n",
    "    if reduced == True:\n",
    "        # Return reduced Q\n",
    "        return Q[:m, :n]\n",
    "        # return np.around(Q[:m, :n], decimals=8)\n",
    "    else:\n",
    "        # Return full Q\n",
    "        return Q\n",
    "        # return np.around(Q, decimals=6)"
   ]
  },
  {
   "cell_type": "markdown",
   "metadata": {},
   "source": [
    "# Problem 4\n",
    "Use the result of Problem 3 to develop a Python function lq that takes as input a matrix $A$ and returns $Q$ and $L$ where $A = QL$ is a $QL$-decomposition, and test it with random matrices of sizes $10 \\times 7$ and $75 \\times 50$. Organize your code in a single Python notebook and include it in the PDF you turn in. By test your code, I mean that you compute the QL decomposition, that you verify $Q$ has orthonormal columns, you verify that $L$ is lower triangular, and that you compute $\\begin{Vmatrix} A - QL \\end{Vmatrix}_2$, where $A$ is a random matrix for wich you compute the $QL$ decomposition. I should be able to run your single file code and observe that you have done each of these verifications. I should also be able to see this by reading the PDF you turn in. To verify that $Q$ is orthogonal, you might just compute the maximum absolute value of the off diagonal entries of $Q^*Q$, for example.\n",
    "\n",
    "### Solution:"
   ]
  },
  {
   "cell_type": "code",
   "execution_count": 122,
   "metadata": {},
   "outputs": [],
   "source": [
    "def ql(A):\n",
    "    \"\"\"Compute the QL factorization of an m x n matrix A.       \n",
    "\n",
    "    Args:\n",
    "        A (arr): An m x n matrix\n",
    "    Return:\n",
    "        Q (arr): a unitary matrix\n",
    "        L (arr): A lower triangular matrix\n",
    "    \"\"\"\n",
    "    # Get dims of A\n",
    "    m = A.shape[0]\n",
    "    n = A.shape[1]\n",
    "\n",
    "    # Define the reversal matrix K_n\n",
    "    Kn = np.flip(np.eye(n), axis=0)\n",
    "\n",
    "    # Compute reduced QR(AK_n) - \\hat{Q} is m x n, \\hat{R} is n x n.\n",
    "    Rhat, W = house(A @ Kn, reduced=True)\n",
    "    Qhat = formQ(W, reduced=True)\n",
    "    \n",
    "    # Compute Q = \\hat{Q}K_n\n",
    "    Q = Qhat @ Kn\n",
    "\n",
    "    # Compute L = K_n\\hat{R}K_n\n",
    "    L = Kn @ Rhat @ Kn\n",
    "    \n",
    "    # return Q, L\n",
    "    return Q, L"
   ]
  },
  {
   "cell_type": "markdown",
   "metadata": {},
   "source": [
    "# Testing\n",
    "1. Define matrices $A$ and $B$ of size $10 \\times 7$ and $75 \\times 50$, respectively. Then do the following:\n",
    "2. Compute $QL(A)$ and $QL(B)$\n",
    "3. Verify that $Q$ has orthonormal columns\n",
    "4. Verify that $L$ is lower triangular\n",
    "5. Compute $\\begin{Vmatrix} A - QL \\end{Vmatrix}_2$ and $\\begin{Vmatrix} B - QL \\end{Vmatrix}_2$, where $A$ and $B$ are the random matrices defined in (1)."
   ]
  },
  {
   "cell_type": "markdown",
   "metadata": {},
   "source": [
    "### Testing for the $10 \\times 7$ random matrix a"
   ]
  },
  {
   "cell_type": "code",
   "execution_count": 123,
   "metadata": {},
   "outputs": [],
   "source": [
    "# 1. Define random matrix of size 10 x 7\n",
    "A = np.random.normal(loc=0.0, scale=1.0, size=(10, 7))"
   ]
  },
  {
   "cell_type": "code",
   "execution_count": 124,
   "metadata": {},
   "outputs": [],
   "source": [
    "# 2. Compute $QL(A)$\n",
    "QA, LA = ql(A)"
   ]
  },
  {
   "cell_type": "code",
   "execution_count": 125,
   "metadata": {},
   "outputs": [
    {
     "name": "stdout",
     "output_type": "stream",
     "text": [
      "The dimensions of $QA.T @ QA are: 7 x 7\n",
      "Check that the diagonal entries of QA.T @ QA sum to 7 by checking the sum of the diagonal entries. \n",
      "The sum is equal to 7: True\n",
      "Check the max absolute value of the array after setting the diagonal entries to 0.0.\n",
      "This effectively checks the max absolute value of the off-diagonal entries.\n",
      "The max absolute value of the resulting array is: 3.2963142379103426e-16\n"
     ]
    }
   ],
   "source": [
    "# 3. Verify that $Q$ has orthonormal columns\n",
    "# Compute QA.T @ QA\n",
    "QATQA = QA.T @ QA\n",
    "\n",
    "# Check the diagonals are 1.0\n",
    "print(f\"The dimensions of $QA.T @ QA are: {QATQA.shape[0]} x {QATQA.shape[1]}\")\n",
    "print(f\"Check that the diagonal entries of QA.T @ QA sum to {QATQA.shape[0]} by checking the sum of the diagonal entries. \\n\" + f\"The sum is equal to {QATQA.shape[0]}: \" + str(sum(np.around(np.diag(QATQA), decimals=10)) == QATQA.shape[0]))\n",
    "\n",
    "# Set diagonal entries to 0.0\n",
    "for i in range(QATQA.shape[0]):\n",
    "    QATQA[i, i] = 0.0\n",
    "\n",
    "# Compute the max absolute value of the the array QATQA with diagonal set to 0.0.\n",
    "print(\"Check the max absolute value of the array after setting the diagonal entries to 0.0.\\nThis effectively checks the max absolute value of the off-diagonal entries.\\n\" + \"The max absolute value of the resulting array is: \" + str(np.max(np.abs(QATQA))))"
   ]
  },
  {
   "cell_type": "code",
   "execution_count": 126,
   "metadata": {},
   "outputs": [
    {
     "name": "stdout",
     "output_type": "stream",
     "text": [
      "The max absolute value of the upper diagonal entries of LA is: 4.2312988466972233e-16\n",
      "The max absolute value of the lower diagonal entries of LA is: \n",
      "3.0734874283890266\n"
     ]
    }
   ],
   "source": [
    "# 4. Verify that $L$ is lower triangular\n",
    "# Extract upper diagonal part of L\n",
    "LA_upper_diag = [LA[i, j] for i in range(LA.shape[0]) for j in range(LA.shape[1]) if i < j]\n",
    "# Extract the lower diagonal part of L\n",
    "LA_lower_diag = [LA[i, j] for i in range(LA.shape[0]) for j in range(LA.shape[1]) if i >= j]\n",
    "\n",
    "print(\"The max absolute value of the upper diagonal entries of LA is: \" + str(np.max(np.abs(LA_upper_diag))))\n",
    "print(\"The max absolute value of the lower diagonal entries of LA is: \\n\" + str(np.max(np.abs(LA_lower_diag))))"
   ]
  },
  {
   "cell_type": "code",
   "execution_count": 127,
   "metadata": {},
   "outputs": [
    {
     "name": "stdout",
     "output_type": "stream",
     "text": [
      "The L2-norm of A - QL is: 3.831465111543962e-15\n"
     ]
    }
   ],
   "source": [
    "# 5. Compute $\\begin{Vmatrix} A - QL \\end{Vmatrix}_2$, where $A$ is the random matrices defined in (1).\n",
    "print(\"The L2-norm of A - QL is: \" + str(np.linalg.norm(A - QA @ LA)))"
   ]
  },
  {
   "cell_type": "markdown",
   "metadata": {},
   "source": [
    "### Testing for the $75 \\times 50$ random matrix $B$."
   ]
  },
  {
   "cell_type": "code",
   "execution_count": 128,
   "metadata": {},
   "outputs": [],
   "source": [
    "# 1. Define random matrix of size 75 x 50\n",
    "B = np.random.normal(loc=0.0, scale=1.0, size=(75, 50))"
   ]
  },
  {
   "cell_type": "code",
   "execution_count": 129,
   "metadata": {},
   "outputs": [],
   "source": [
    "# Compute QL for the 75 x 50 matrix B\n",
    "QB, LB = ql(B)"
   ]
  },
  {
   "cell_type": "code",
   "execution_count": 130,
   "metadata": {},
   "outputs": [
    {
     "name": "stdout",
     "output_type": "stream",
     "text": [
      "The dimensions of $QB.T @ QB are: 50 x 50\n",
      "Check that the diagonal entries of QB.T @ QB sum to 50 by checking the sum of the diagonal entries. \n",
      "The sum is equal to 50: True\n",
      "Check the max absolute value of the array after setting the diagonal entries to 0.0.\n",
      "This effectively checks the max absolute value of the off-diagonal entries.\n",
      "The max absolute value of the resulting array is: 8.721678135614107e-16\n"
     ]
    }
   ],
   "source": [
    "# 3. Verify that $Q$ has orthonormal columns\n",
    "# Compute QA.T @ QA\n",
    "QBTQB = QB.T @ QB\n",
    "\n",
    "# Check the diagonals are 1.0\n",
    "print(f\"The dimensions of $QB.T @ QB are: {QBTQB.shape[0]} x {QBTQB.shape[1]}\")\n",
    "print(f\"Check that the diagonal entries of QB.T @ QB sum to {QBTQB.shape[0]} by checking the sum of the diagonal entries. \\n\" + f\"The sum is equal to {QBTQB.shape[0]}: \" + str(sum(np.around(np.diag(QBTQB), decimals=10)) == QBTQB.shape[0]))\n",
    "\n",
    "# Set diagonal entries to 0.0\n",
    "for i in range(QBTQB.shape[0]):\n",
    "    QBTQB[i, i] = 0.0\n",
    "\n",
    "# Compute the max absolute value of the the array QATQA with diagonal set to 0.0.\n",
    "print(\"Check the max absolute value of the array after setting the diagonal entries to 0.0.\\nThis effectively checks the max absolute value of the off-diagonal entries.\\n\" + \"The max absolute value of the resulting array is: \" + str(np.max(np.abs(QBTQB))))"
   ]
  },
  {
   "cell_type": "code",
   "execution_count": 1,
   "metadata": {},
   "outputs": [
    {
     "ename": "NameError",
     "evalue": "name 'LB' is not defined",
     "output_type": "error",
     "traceback": [
      "\u001b[0;31m---------------------------------------------------------------------------\u001b[0m",
      "\u001b[0;31mNameError\u001b[0m                                 Traceback (most recent call last)",
      "\u001b[1;32m/home/masvgp/dev/byu_num_lin_alg_2022/notebooks/exam_1_q_4/exam_1_q_4.ipynb Cell 16\u001b[0m in \u001b[0;36m<cell line: 3>\u001b[0;34m()\u001b[0m\n\u001b[1;32m      <a href='vscode-notebook-cell://wsl%2Bubuntu/home/masvgp/dev/byu_num_lin_alg_2022/notebooks/exam_1_q_4/exam_1_q_4.ipynb#X21sdnNjb2RlLXJlbW90ZQ%3D%3D?line=0'>1</a>\u001b[0m \u001b[39m# 4. Verify that $L$ is lower triangular\u001b[39;00m\n\u001b[1;32m      <a href='vscode-notebook-cell://wsl%2Bubuntu/home/masvgp/dev/byu_num_lin_alg_2022/notebooks/exam_1_q_4/exam_1_q_4.ipynb#X21sdnNjb2RlLXJlbW90ZQ%3D%3D?line=1'>2</a>\u001b[0m \u001b[39m# Extract upper diagonal part of L\u001b[39;00m\n\u001b[0;32m----> <a href='vscode-notebook-cell://wsl%2Bubuntu/home/masvgp/dev/byu_num_lin_alg_2022/notebooks/exam_1_q_4/exam_1_q_4.ipynb#X21sdnNjb2RlLXJlbW90ZQ%3D%3D?line=2'>3</a>\u001b[0m LB_upper_diag \u001b[39m=\u001b[39m [LB[i, j] \u001b[39mfor\u001b[39;00m i \u001b[39min\u001b[39;00m \u001b[39mrange\u001b[39m(LB\u001b[39m.\u001b[39mshape[\u001b[39m0\u001b[39m])\\\n\u001b[1;32m      <a href='vscode-notebook-cell://wsl%2Bubuntu/home/masvgp/dev/byu_num_lin_alg_2022/notebooks/exam_1_q_4/exam_1_q_4.ipynb#X21sdnNjb2RlLXJlbW90ZQ%3D%3D?line=3'>4</a>\u001b[0m     \u001b[39mfor\u001b[39;00m j \u001b[39min\u001b[39;00m \u001b[39mrange\u001b[39m(LB\u001b[39m.\u001b[39mshape[\u001b[39m1\u001b[39m]) \u001b[39mif\u001b[39;00m i \u001b[39m<\u001b[39m j]\n\u001b[1;32m      <a href='vscode-notebook-cell://wsl%2Bubuntu/home/masvgp/dev/byu_num_lin_alg_2022/notebooks/exam_1_q_4/exam_1_q_4.ipynb#X21sdnNjb2RlLXJlbW90ZQ%3D%3D?line=4'>5</a>\u001b[0m \u001b[39m# Extract the lower diagonal part of L\u001b[39;00m\n\u001b[1;32m      <a href='vscode-notebook-cell://wsl%2Bubuntu/home/masvgp/dev/byu_num_lin_alg_2022/notebooks/exam_1_q_4/exam_1_q_4.ipynb#X21sdnNjb2RlLXJlbW90ZQ%3D%3D?line=5'>6</a>\u001b[0m LB_lower_diag \u001b[39m=\u001b[39m [LB[i, j] \u001b[39mfor\u001b[39;00m i \u001b[39min\u001b[39;00m \u001b[39mrange\u001b[39m(LB\u001b[39m.\u001b[39mshape[\u001b[39m0\u001b[39m])\\\n\u001b[1;32m      <a href='vscode-notebook-cell://wsl%2Bubuntu/home/masvgp/dev/byu_num_lin_alg_2022/notebooks/exam_1_q_4/exam_1_q_4.ipynb#X21sdnNjb2RlLXJlbW90ZQ%3D%3D?line=6'>7</a>\u001b[0m      \u001b[39mfor\u001b[39;00m j \u001b[39min\u001b[39;00m \u001b[39mrange\u001b[39m(LB\u001b[39m.\u001b[39mshape[\u001b[39m1\u001b[39m]) \u001b[39mif\u001b[39;00m i \u001b[39m>\u001b[39m\u001b[39m=\u001b[39m j]\n",
      "\u001b[0;31mNameError\u001b[0m: name 'LB' is not defined"
     ]
    }
   ],
   "source": [
    "# 4. Verify that $L$ is lower triangular\n",
    "# Extract upper diagonal part of L\n",
    "LB_upper_diag = [LB[i, j] for i in range(LB.shape[0]) for j in range(LB.shape[1]) if i < j]\n",
    "# Extract the lower diagonal part of L\n",
    "LB_lower_diag = [LB[i, j] for i in range(LB.shape[0]) for j in range(LB.shape[1]) if i >= j]\n",
    "\n",
    "print(\"The max absolute value of the upper diagonal entries of LB is: \" + str(np.max(np.abs(LB_upper_diag))))\n",
    "print(\"The max absolute value of the lower diagonal entries of LB is: \\n\" + str(np.max(np.abs(LB_lower_diag))))"
   ]
  },
  {
   "cell_type": "code",
   "execution_count": 132,
   "metadata": {},
   "outputs": [
    {
     "name": "stdout",
     "output_type": "stream",
     "text": [
      "The L2-norm of B - QL is: 1.0843623836693697e-13\n"
     ]
    }
   ],
   "source": [
    "# 5. Compute $\\begin{Vmatrix} B - QL \\end{Vmatrix}_2$ where $B$ is the random matrices defined in (1).\n",
    "print(\"The L2-norm of B - QL is: \" + str(np.linalg.norm(B - QB @ LB)))"
   ]
  }
 ],
 "metadata": {
  "kernelspec": {
   "display_name": "Python 3.8.10 ('byu_510')",
   "language": "python",
   "name": "python3"
  },
  "language_info": {
   "codemirror_mode": {
    "name": "ipython",
    "version": 3
   },
   "file_extension": ".py",
   "mimetype": "text/x-python",
   "name": "python",
   "nbconvert_exporter": "python",
   "pygments_lexer": "ipython3",
   "version": "3.8.10"
  },
  "orig_nbformat": 4,
  "vscode": {
   "interpreter": {
    "hash": "377e24343a05d7851b06affc79fb974795c277650a5edcd2cda5027725f01d3c"
   }
  }
 },
 "nbformat": 4,
 "nbformat_minor": 2
}
