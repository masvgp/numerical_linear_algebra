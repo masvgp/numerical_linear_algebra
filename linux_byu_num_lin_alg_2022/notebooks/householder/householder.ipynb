{
 "cells": [
  {
   "cell_type": "code",
   "execution_count": 2,
   "metadata": {},
   "outputs": [],
   "source": [
    "import numpy as np"
   ]
  },
  {
   "cell_type": "code",
   "execution_count": 2,
   "metadata": {},
   "outputs": [],
   "source": [
    "def e(i, length):\n",
    "    # Given a position and a length, return a vector with a 1.0 in the ith position and 0.0 else.\n",
    "    e_i = np.zeros(length, dtype=np.float64)\n",
    "    e_i[i] = 1.0\n",
    "    return e_i"
   ]
  },
  {
   "cell_type": "code",
   "execution_count": 3,
   "metadata": {},
   "outputs": [],
   "source": [
    "def reflector(v):\n",
    "    \"\"\"Given a unit vector v, return the householder reflector I - 2 * np.outer(v, v)\n",
    "\n",
    "    Args:\n",
    "        v (arr): Vector\n",
    "    Returns:\n",
    "        reflector (arr): A len(v) x len(v) array representing a householder reflector\n",
    "    \"\"\"\n",
    "    I = np.eye(len(v))\n",
    "    outer = np.outer(v, v)\n",
    "\n",
    "    \n",
    "    return (I - 2 * outer)"
   ]
  },
  {
   "cell_type": "code",
   "execution_count": 52,
   "metadata": {},
   "outputs": [],
   "source": [
    "def formQ(W):\n",
    "        \"\"\"Form Q from the lower diagonal vk's formed in the householder algorithm.\n",
    "\n",
    "        Args:\n",
    "            W (arr): An m x n matrix containing the vk in the kth column\n",
    "\n",
    "        Returns:\n",
    "            arr: Returns an m x m orthonormal matrix Q such that QR = A\n",
    "        \"\"\"\n",
    "        m = W.shape[0]\n",
    "        n = W.shape[1]\n",
    "        Q = np.eye(m, m)\n",
    "        for k in range(n):\n",
    "                Qk = np.eye(m, m)\n",
    "                Qk[k:m, k:m] = reflector(W[k:m, k])\n",
    "                Q = Q @ Qk\n",
    "        \n",
    "        return np.around(Q, decimals=6)\n",
    "\n",
    "        "
   ]
  },
  {
   "cell_type": "code",
   "execution_count": 53,
   "metadata": {},
   "outputs": [],
   "source": [
    "def house(A):\n",
    "    \"\"\"Compute the factor R of a QR factorization of an m x n matrix A with m >= .\n",
    "\n",
    "    Args:\n",
    "        A (arr): A numpy array of shape m x n\n",
    "    Returns:\n",
    "        R (arr): The upper diagonal matrix R in a QR factorization\n",
    "    \"\"\"\n",
    "    m = A.shape[0] # Get row-dim of A\n",
    "    n = A.shape[1] # Get col-dim of A\n",
    "    W = np.zeros((m, n))\n",
    "    #Q = np.eye(m, m)\n",
    "    # V = np.zeros((m, n))\n",
    "\n",
    "    # Cast A as type np.float64\n",
    "    A = A.astype(np.float64)\n",
    "\n",
    "    for k in range(n):\n",
    "        # Get the first column of the (m-k+1, n-k+1) submatrix of A\n",
    "        x = A[k:m, k]\n",
    "\n",
    "        # Compute e_1, sign function, and the norm of x\n",
    "        e_1 = e(0, len(x))\n",
    "        sign = np.sign(x[0])\n",
    "        norm_x = np.linalg.norm(x)\n",
    "\n",
    "        # Compute vk, the vector reflected across the Householder hyperplane\n",
    "        vk = (sign * norm_x * e_1) + x\n",
    "        vk = vk / np.linalg.norm(vk)\n",
    "\n",
    "        # Store vk in W\n",
    "        W[k:m, k] = vk\n",
    "\n",
    "        # Apply the reflector to the k:m, k:n submatrix of A to put\n",
    "        # zeros below the diagonal of the kth column of A\n",
    "        A[k:m, k:n] = reflector(vk) @ A[k:m, k:n]\n",
    "    \n",
    "    return np.around(A, decimals=6), W\n",
    "    "
   ]
  },
  {
   "cell_type": "code",
   "execution_count": 54,
   "metadata": {},
   "outputs": [],
   "source": [
    "A = np.array([[1, 2, 1], [4, 5, 6], [6, 9, 8]])"
   ]
  },
  {
   "cell_type": "code",
   "execution_count": 55,
   "metadata": {},
   "outputs": [
    {
     "name": "stdout",
     "output_type": "stream",
     "text": [
      "R: \n",
      "[[ -7.28011  -10.439403 -10.027321]\n",
      " [ -0.         1.00939   -0.672927]\n",
      " [ -0.         0.         0.      ]]\n"
     ]
    }
   ],
   "source": [
    "R, W = house(A)\n",
    "print(\"R: \\n\" + str(R))"
   ]
  },
  {
   "cell_type": "code",
   "execution_count": 56,
   "metadata": {},
   "outputs": [
    {
     "name": "stdout",
     "output_type": "stream",
     "text": [
      "Q: \n",
      "[[-0.137361  0.560772  0.816497]\n",
      " [-0.549442 -0.729004  0.408248]\n",
      " [-0.824163  0.392541 -0.408248]]\n"
     ]
    }
   ],
   "source": [
    "Q = formQ(W)\n",
    "print(\"Q: \\n\" + str(Q))"
   ]
  },
  {
   "cell_type": "code",
   "execution_count": 18,
   "metadata": {},
   "outputs": [
    {
     "data": {
      "text/plain": [
       "(array([[-0.13736056,  0.56077215, -0.81649658],\n",
       "        [-0.54944226, -0.7290038 , -0.40824829],\n",
       "        [-0.82416338,  0.39254051,  0.40824829]]),\n",
       " array([[-7.28010989e+00, -1.04394029e+01, -1.00273212e+01],\n",
       "        [ 0.00000000e+00,  1.00938988e+00, -6.72926585e-01],\n",
       "        [ 0.00000000e+00,  0.00000000e+00, -6.16000306e-15]]))"
      ]
     },
     "execution_count": 18,
     "metadata": {},
     "output_type": "execute_result"
    }
   ],
   "source": [
    "np.linalg.qr(A)"
   ]
  },
  {
   "cell_type": "code",
   "execution_count": 19,
   "metadata": {},
   "outputs": [
    {
     "name": "stdout",
     "output_type": "stream",
     "text": [
      "[[ 2  3  4]\n",
      " [ 5  6  7]\n",
      " [ 8  9 10]]\n"
     ]
    }
   ],
   "source": [
    "B = np.array([[2, 3, 4], [5, 6, 7], [8, 9, 10]])\n",
    "print(B)"
   ]
  },
  {
   "cell_type": "code",
   "execution_count": 58,
   "metadata": {},
   "outputs": [
    {
     "name": "stdout",
     "output_type": "stream",
     "text": [
      "R: \n",
      "[[ -9.643651 -11.199078 -12.754506]\n",
      " [  0.         0.762001   1.524002]\n",
      " [  0.        -0.        -0.      ]]\n"
     ]
    }
   ],
   "source": [
    "R, W = house(B)\n",
    "print(\"R: \\n\" + str(R))"
   ]
  },
  {
   "cell_type": "code",
   "execution_count": 59,
   "metadata": {},
   "outputs": [
    {
     "name": "stdout",
     "output_type": "stream",
     "text": [
      "Q: \n",
      "[[-0.20739   0.889001 -0.408248]\n",
      " [-0.518476  0.254     0.816497]\n",
      " [-0.829561 -0.381    -0.408248]]\n"
     ]
    }
   ],
   "source": [
    "Q = formQ(W)\n",
    "print(\"Q: \\n\" + str(Q))"
   ]
  },
  {
   "cell_type": "code",
   "execution_count": 21,
   "metadata": {},
   "outputs": [
    {
     "data": {
      "text/plain": [
       "(array([[-0.20739034,  0.88900089,  0.40824829],\n",
       "        [-0.51847585,  0.25400025, -0.81649658],\n",
       "        [-0.82956136, -0.38100038,  0.40824829]]),\n",
       " array([[-9.64365076e+00, -1.11990783e+01, -1.27545058e+01],\n",
       "        [ 0.00000000e+00,  7.62000762e-01,  1.52400152e+00],\n",
       "        [ 0.00000000e+00,  0.00000000e+00,  1.11022302e-15]]))"
      ]
     },
     "execution_count": 21,
     "metadata": {},
     "output_type": "execute_result"
    }
   ],
   "source": [
    "np.linalg.qr(B)"
   ]
  },
  {
   "cell_type": "code",
   "execution_count": 66,
   "metadata": {},
   "outputs": [
    {
     "name": "stdout",
     "output_type": "stream",
     "text": [
      "R: \n",
      "[[-5.91608  -7.437357]\n",
      " [-0.        0.828079]\n",
      " [ 0.       -0.      ]]\n"
     ]
    }
   ],
   "source": [
    "C = np.array([[1, 2], [3, 4], [5, 6]])\n",
    "R, W = house(C)\n",
    "print(\"R: \\n\" + str(R))\n",
    "\n",
    "\n"
   ]
  },
  {
   "cell_type": "code",
   "execution_count": 67,
   "metadata": {},
   "outputs": [
    {
     "name": "stdout",
     "output_type": "stream",
     "text": [
      "Q: \n",
      "[[-0.169031  0.897085  0.408248]\n",
      " [-0.507093  0.276026 -0.816497]\n",
      " [-0.845154 -0.345033  0.408248]]\n"
     ]
    }
   ],
   "source": [
    "Q = formQ(W)\n",
    "print(\"Q: \\n\" + str(Q))"
   ]
  },
  {
   "cell_type": "code",
   "execution_count": 68,
   "metadata": {},
   "outputs": [
    {
     "data": {
      "text/plain": [
       "(array([[-0.16903085,  0.89708523],\n",
       "        [-0.50709255,  0.27602622],\n",
       "        [-0.84515425, -0.34503278]]),\n",
       " array([[-5.91607978, -7.43735744],\n",
       "        [ 0.        ,  0.82807867]]))"
      ]
     },
     "execution_count": 68,
     "metadata": {},
     "output_type": "execute_result"
    }
   ],
   "source": [
    "np.linalg.qr(C)"
   ]
  },
  {
   "cell_type": "code",
   "execution_count": null,
   "metadata": {},
   "outputs": [],
   "source": []
  }
 ],
 "metadata": {
  "kernelspec": {
   "display_name": "Python 3.8.10 ('byu_510')",
   "language": "python",
   "name": "python3"
  },
  "language_info": {
   "codemirror_mode": {
    "name": "ipython",
    "version": 3
   },
   "file_extension": ".py",
   "mimetype": "text/x-python",
   "name": "python",
   "nbconvert_exporter": "python",
   "pygments_lexer": "ipython3",
   "version": "3.8.10"
  },
  "orig_nbformat": 4,
  "vscode": {
   "interpreter": {
    "hash": "377e24343a05d7851b06affc79fb974795c277650a5edcd2cda5027725f01d3c"
   }
  }
 },
 "nbformat": 4,
 "nbformat_minor": 2
}
